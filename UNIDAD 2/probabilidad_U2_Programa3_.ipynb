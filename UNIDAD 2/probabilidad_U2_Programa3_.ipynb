{
  "nbformat": 4,
  "nbformat_minor": 0,
  "metadata": {
    "colab": {
      "provenance": [],
      "authorship_tag": "ABX9TyMRAcbwHj5lROklwICYfvpx",
      "include_colab_link": true
    },
    "kernelspec": {
      "name": "python3",
      "display_name": "Python 3"
    },
    "language_info": {
      "name": "python"
    }
  },
  "cells": [
    {
      "cell_type": "markdown",
      "metadata": {
        "id": "view-in-github",
        "colab_type": "text"
      },
      "source": [
        "<a href=\"https://colab.research.google.com/github/25040150-source/PROBABILIDAD-Y-ESTADISTICA/blob/main/UNIDAD%202/probabilidad_U2_Programa3_.ipynb\" target=\"_parent\"><img src=\"https://colab.research.google.com/assets/colab-badge.svg\" alt=\"Open In Colab\"/></a>"
      ]
    },
    {
      "cell_type": "markdown",
      "source": [
        "#Probabilidad y estadistica 2Y\n",
        "##Unidad 2.- permutaciones\n",
        "###Maestro: José Gabriel Rodriguez Rivas\n",
        "###Alumno: Marcela Pérez Gurrola"
      ],
      "metadata": {
        "id": "YzWKsTSfmVpJ"
      }
    },
    {
      "cell_type": "markdown",
      "source": [
        "pagina 37"
      ],
      "metadata": {
        "id": "BTkyv38Qmg2l"
      }
    },
    {
      "cell_type": "code",
      "execution_count": 1,
      "metadata": {
        "id": "KFrseHZsmSM5"
      },
      "outputs": [],
      "source": [
        "import itertools\n",
        "import math"
      ]
    },
    {
      "cell_type": "code",
      "source": [
        "asistentes = list(range(1, 11))\n",
        "print(\"Asistentes disponibles:\", asistentes)"
      ],
      "metadata": {
        "colab": {
          "base_uri": "https://localhost:8080/"
        },
        "id": "psGIDDz5qYfN",
        "outputId": "ea6e089f-a1ab-45a8-c1e1-6988f4cde71b"
      },
      "execution_count": 2,
      "outputs": [
        {
          "output_type": "stream",
          "name": "stdout",
          "text": [
            "Asistentes disponibles: [1, 2, 3, 4, 5, 6, 7, 8, 9, 10]\n"
          ]
        }
      ]
    },
    {
      "cell_type": "code",
      "source": [
        "permutaciones = list(itertools.permutations(asistentes, 4))\n",
        "print(\"\\nEjemplos de asignaciones de asistentes (primeros 10 resultados):\")\n",
        "for p in permutaciones[:10]:\n",
        "    print(p)\n",
        "\n",
        "print(\"\\nNúmero total de permutaciones con itertools:\", len(permutaciones))\n",
        "\n",
        "resultado_formula = math.perm(10, 4)  # P(10,4) = 10! / (10-4)!\n",
        "print(\"Número total de permutaciones con fórmula:\", resultado_formula)\n",
        "\n",
        "\n",
        "print(\"Existen\", resultado_formula,\n",
        "      \"formas distintas de asignar a 4 asistentes de un total de 10 disponibles.\")"
      ],
      "metadata": {
        "colab": {
          "base_uri": "https://localhost:8080/"
        },
        "id": "L-UAbOJqqgT6",
        "outputId": "d1b82493-1d2e-42d3-dbe6-b5a9ac7c69dc"
      },
      "execution_count": 7,
      "outputs": [
        {
          "output_type": "stream",
          "name": "stdout",
          "text": [
            "\n",
            "Ejemplos de asignaciones de asistentes (primeros 10 resultados):\n",
            "(1, 2, 3, 4)\n",
            "(1, 2, 3, 5)\n",
            "(1, 2, 3, 6)\n",
            "(1, 2, 3, 7)\n",
            "(1, 2, 3, 8)\n",
            "(1, 2, 3, 9)\n",
            "(1, 2, 3, 10)\n",
            "(1, 2, 4, 3)\n",
            "(1, 2, 4, 5)\n",
            "(1, 2, 4, 6)\n",
            "\n",
            "Número total de permutaciones con itertools: 5040\n",
            "Número total de permutaciones con fórmula: 5040\n",
            "Existen 5040 formas distintas de asignar a 4 asistentes de un total de 10 disponibles.\n"
          ]
        }
      ]
    }
  ]
}