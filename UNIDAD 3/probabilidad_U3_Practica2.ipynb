{
  "nbformat": 4,
  "nbformat_minor": 0,
  "metadata": {
    "colab": {
      "provenance": [],
      "authorship_tag": "ABX9TyPqu9EiZWN9aGErIOjhNnQY",
      "include_colab_link": true
    },
    "kernelspec": {
      "name": "python3",
      "display_name": "Python 3"
    },
    "language_info": {
      "name": "python"
    }
  },
  "cells": [
    {
      "cell_type": "markdown",
      "metadata": {
        "id": "view-in-github",
        "colab_type": "text"
      },
      "source": [
        "<a href=\"https://colab.research.google.com/github/25040150-source/PROBABILIDAD-Y-ESTADISTICA/blob/main/UNIDAD%203/probabilidad_U3_Practica2.ipynb\" target=\"_parent\"><img src=\"https://colab.research.google.com/assets/colab-badge.svg\" alt=\"Open In Colab\"/></a>"
      ]
    },
    {
      "cell_type": "markdown",
      "source": [
        "#Probabilidad y estadistica 2Y\n",
        "##Unidad 3.- distribucines\n",
        "###valor esperado\n",
        "###Maestro: José Gabriel Rodriguez Rivas\n",
        "###Alumno: Marcela Pérez Gurrola"
      ],
      "metadata": {
        "id": "RYWcYmoiK_O6"
      }
    },
    {
      "cell_type": "code",
      "execution_count": null,
      "metadata": {
        "colab": {
          "base_uri": "https://localhost:8080/"
        },
        "id": "tjCAtgn1K68C",
        "outputId": "11a49d4b-36d6-4f82-8b44-7f282fcd3063"
      },
      "outputs": [
        {
          "output_type": "stream",
          "name": "stdout",
          "text": [
            "x=5, p=0.05, x*p=0.25\n",
            "El valor esperado (Esperanza): 0.25\n",
            "x=6, p=0.1, x*p=0.60\n",
            "El valor esperado (Esperanza): 0.85\n",
            "x=7, p=0.2, x*p=1.40\n",
            "El valor esperado (Esperanza): 2.25\n",
            "x=8, p=0.3, x*p=2.40\n",
            "El valor esperado (Esperanza): 4.65\n",
            "x=9, p=0.25, x*p=2.25\n",
            "El valor esperado (Esperanza): 6.90\n",
            "x=10, p=0.1, x*p=1.00\n",
            "El valor esperado (Esperanza): 7.90\n"
          ]
        }
      ],
      "source": [
        "#valores psoibles de la variable aleatoria\n",
        "x=[5,6,7,8,9,10]\n",
        "#probabilidades correspondientes\n",
        "p=[0.05,0.10,0.20,0.30,0.25,0.10]\n",
        "#inicializar una variable para acumular la suma\n",
        "valor_esperado= 0\n",
        "#recorrer los valores y sus probabilidades\n",
        "for i in range(len(x)):\n",
        "  #valor de la variable aleatoria\n",
        "  xi= x[i]\n",
        "  #probabilidad de ese valor\n",
        "  pi= p[i]\n",
        "  #multiplicar el  valor por su probabilidad\n",
        "  producto= xi * pi\n",
        "  #sumar al acumulador\n",
        "  valor_esperado += producto\n",
        "  #mostrar cada paso\n",
        "  print(f\"x={xi}, p={pi}, x*p={producto:.2f}\")\n",
        "  #mostrar resultado final\n",
        "  print(f\"El valor esperado (Esperanza): {valor_esperado:.2f}\")"
      ]
    }
  ]
}