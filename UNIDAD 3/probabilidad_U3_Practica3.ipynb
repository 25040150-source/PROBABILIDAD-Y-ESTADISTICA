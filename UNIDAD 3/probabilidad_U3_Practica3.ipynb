{
  "nbformat": 4,
  "nbformat_minor": 0,
  "metadata": {
    "colab": {
      "provenance": [],
      "authorship_tag": "ABX9TyMYyqfmwCe8OHZjV5b/nFlk",
      "include_colab_link": true
    },
    "kernelspec": {
      "name": "python3",
      "display_name": "Python 3"
    },
    "language_info": {
      "name": "python"
    }
  },
  "cells": [
    {
      "cell_type": "markdown",
      "metadata": {
        "id": "view-in-github",
        "colab_type": "text"
      },
      "source": [
        "<a href=\"https://colab.research.google.com/github/25040150-source/PROBABILIDAD-Y-ESTADISTICA/blob/main/UNIDAD%203/probabilidad_U3_Practica3.ipynb\" target=\"_parent\"><img src=\"https://colab.research.google.com/assets/colab-badge.svg\" alt=\"Open In Colab\"/></a>"
      ]
    },
    {
      "cell_type": "markdown",
      "source": [
        "#Probabilidad y estadistica 2Y\n",
        "##Unidad 3.- distribucines\n",
        "###varianza y desviacion estandar\n",
        "###Maestro: José Gabriel Rodriguez Rivas\n",
        "###Alumno: Marcela Pérez Gurrola"
      ],
      "metadata": {
        "id": "WgVyub_TE2D_"
      }
    },
    {
      "cell_type": "code",
      "execution_count": 1,
      "metadata": {
        "colab": {
          "base_uri": "https://localhost:8080/"
        },
        "id": "1cN8VlEkEa7o",
        "outputId": "24583223-b337-4552-ef12-342859b77793"
      },
      "outputs": [
        {
          "output_type": "stream",
          "name": "stdout",
          "text": [
            "E(X) = 7.90\n",
            "E(X^2) = 64.10\n",
            "Varianza = 1.69\n",
            "Desviacion = 1.30\n"
          ]
        }
      ],
      "source": [
        "import math\n",
        "x=[5,6,7,8,9,10]\n",
        "p=[0.05,0.10,0.20,0.30,0.25,0.10]\n",
        "#calcular E(X)\n",
        "esperanza = 0\n",
        "for i in range(len(x)):\n",
        "  esperanza += x[i]*p[i]\n",
        "#Calcular E(X ^ 2)\n",
        "esperanza_cuadrado = 0\n",
        "for i in range(len(x)):\n",
        "  esperanza_cuadrado += (x[i] ** 2)*p[i]\n",
        "#calcular varianza y desviacion estandar\n",
        "varianza= esperanza_cuadrado - esperanza ** 2\n",
        "desviacion= math.sqrt(varianza)\n",
        "\n",
        "#mostrar resultados\n",
        "print(f\"E(X) = {esperanza:.2f}\")\n",
        "print(f\"E(X^2) = {esperanza_cuadrado:.2f}\")\n",
        "print(f\"Varianza = {varianza:.2f}\")\n",
        "print(f\"Desviacion = {desviacion:.2f}\")\n"
      ]
    }
  ]
}