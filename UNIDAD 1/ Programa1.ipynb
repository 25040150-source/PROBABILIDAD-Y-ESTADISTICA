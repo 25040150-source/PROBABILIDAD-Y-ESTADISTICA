{
  "nbformat": 4,
  "nbformat_minor": 0,
  "metadata": {
    "colab": {
      "provenance": [],
      "authorship_tag": "ABX9TyOCbIUCzh6uV+kcylF2u5q7",
      "include_colab_link": true
    },
    "kernelspec": {
      "name": "python3",
      "display_name": "Python 3"
    },
    "language_info": {
      "name": "python"
    }
  },
  "cells": [
    {
      "cell_type": "markdown",
      "metadata": {
        "id": "view-in-github",
        "colab_type": "text"
      },
      "source": [
        "<a href=\"https://colab.research.google.com/github/25040150-source/PROBABILIDAD-Y-ESTADISTICA/blob/main/UNIDAD%201/%20Programa1.ipynb\" target=\"_parent\"><img src=\"https://colab.research.google.com/assets/colab-badge.svg\" alt=\"Open In Colab\"/></a>"
      ]
    },
    {
      "cell_type": "markdown",
      "source": [
        "**Programación orientada a objetos**\n",
        "##Unidad 1 Introduccion POO\n",
        "###Maestro: Jose Gabriel Rodriguez Rivas\n",
        "###Alumno: Marcela Perez Gurrrola"
      ],
      "metadata": {
        "id": "EX9FfOxi4j9q"
      }
    },
    {
      "cell_type": "code",
      "source": [
        "variable = input(\"escribe tu nombre \")\n",
        "print(\"tu nombre es\",variable)\n"
      ],
      "metadata": {
        "colab": {
          "base_uri": "https://localhost:8080/"
        },
        "id": "1oLfE9GnbQma",
        "outputId": "052b6b9c-0981-4c0b-dffc-4e99143ad10b"
      },
      "execution_count": null,
      "outputs": [
        {
          "output_type": "stream",
          "name": "stdout",
          "text": [
            "escribe tu nombre marcela\n",
            "tu nombre es marcela\n"
          ]
        }
      ]
    },
    {
      "cell_type": "code",
      "source": [
        "nom = input(\"¿me puedes dar tu noombre por favor? \")\n",
        "ape = input(\"¿me puedes dar tu apellido por favor? \")\n",
        "print(\"gracias\")\n",
        "print(\"tu nombre es\", nom, ape,\".\")"
      ],
      "metadata": {
        "colab": {
          "base_uri": "https://localhost:8080/"
        },
        "id": "JUdRrrJQdJeD",
        "outputId": "986a86d9-4740-4bad-bc71-8d17d89e0226"
      },
      "execution_count": null,
      "outputs": [
        {
          "output_type": "stream",
          "name": "stdout",
          "text": [
            "¿me puedes dar tu noombre por favor? MARCELA\n",
            "¿me puedes dar tu apellido por favor? PEREZ\n",
            "gracias\n",
            "tu nombre es MARCELA PEREZ .\n"
          ]
        }
      ]
    },
    {
      "cell_type": "code",
      "source": [
        "#MARCA Error porque debe convertir el tipo de dato\n",
        "#en si no lo marca pero no hace la acccion qe queremos\n",
        "#hay que convertir a tipo entero porque es cadena\n",
        "x=input(\"dame un numero para multiplicar\")\n",
        "z=x*5\n",
        "print(z)\n"
      ],
      "metadata": {
        "colab": {
          "base_uri": "https://localhost:8080/"
        },
        "id": "kNfcWWOWekRd",
        "outputId": "bb5d2d39-4017-48be-b124-4a7d0e690142"
      },
      "execution_count": null,
      "outputs": [
        {
          "output_type": "stream",
          "name": "stdout",
          "text": [
            "dame un numero para multiplicar7\n",
            "77777\n"
          ]
        }
      ]
    },
    {
      "cell_type": "code",
      "source": [
        "x=int(input(\"dame un numero para multiplicar \"))\n",
        "z=x*5\n",
        "print(z)"
      ],
      "metadata": {
        "colab": {
          "base_uri": "https://localhost:8080/"
        },
        "id": "bbT1prLrfXyF",
        "outputId": "aa77165c-7b7f-48ec-ff75-c40ef95bc4c3"
      },
      "execution_count": null,
      "outputs": [
        {
          "output_type": "stream",
          "name": "stdout",
          "text": [
            "dame un numero para multiplicar 8\n",
            "40\n"
          ]
        }
      ]
    },
    {
      "cell_type": "code",
      "source": [
        "#el doble asterisco es como elevar al cuadrado uno solo multiplica dos eleva al\n",
        "#cuadrado, y el **.5 es como si pusieramos raiz cuadrada\n",
        "cateto_a=float(input(\"inserta la longitud del primer cateto \"))\n",
        "cateto_b=float(input(\"inserta la longitud del segundo cateto \"))\n",
        "hipo=(cateto_a**2+cateto_b**2) ** .5\n",
        "print(\"la longitud de la hipotenusa es: \", hipo)"
      ],
      "metadata": {
        "colab": {
          "base_uri": "https://localhost:8080/"
        },
        "id": "XdSXohY1f82e",
        "outputId": "bb976dc6-31cf-4960-dfc8-3f6ec9d67674"
      },
      "execution_count": null,
      "outputs": [
        {
          "output_type": "stream",
          "name": "stdout",
          "text": [
            "inserta la longitud del primer cateto 10\n",
            "inserta la longitud del segundo cateto 5\n",
            "la longitud de la hipotenusa es:  11.180339887498949\n"
          ]
        }
      ]
    },
    {
      "cell_type": "code",
      "source": [
        "a=3000\n",
        "b=12500\n",
        "if b>a:\n",
        "  print(\"b es mayor que a\")\n",
        "  print(b,\"es mayor que\",a)\n",
        "else:\n",
        "  print(\"a es mayor que b\")\n",
        "  print(a,\"es mayor que\",b)\n",
        "print (\"fin del if\")"
      ],
      "metadata": {
        "colab": {
          "base_uri": "https://localhost:8080/"
        },
        "id": "2BBwSWo8jv8I",
        "outputId": "b6bcccc7-850d-4da2-8bb2-900f07f840c1"
      },
      "execution_count": null,
      "outputs": [
        {
          "output_type": "stream",
          "name": "stdout",
          "text": [
            "b es mayor que a\n",
            "12500 es mayor que 3000\n",
            "fin del if\n"
          ]
        }
      ]
    },
    {
      "cell_type": "code",
      "source": [
        "a=3000\n",
        "b=3000\n",
        "if b>a:\n",
        "  print(\"b es mayor que a\")\n",
        "  print(b,\"es mayor que\",a)\n",
        "elif a==b:\n",
        "  print(\"a es igual que b\")\n",
        "  print(\"a y b valen => \",a)\n",
        "else:\n",
        "  print(\"a es mayor que b\")\n",
        "  print(a,\"es mayor que\",b)\n",
        "print (\"fin del if\")"
      ],
      "metadata": {
        "colab": {
          "base_uri": "https://localhost:8080/"
        },
        "id": "TWNsZ6qZmyhU",
        "outputId": "cf93fb15-957b-4f72-c9bc-bf8907129e0d"
      },
      "execution_count": null,
      "outputs": [
        {
          "output_type": "stream",
          "name": "stdout",
          "text": [
            "a es igual que b\n",
            "a y b valen =>  3000\n",
            "fin del if\n"
          ]
        }
      ]
    },
    {
      "cell_type": "code",
      "source": [
        "#If y if... else en variacion corte o simplificacion\n",
        "#del lado izquierdo es cuando es verdadera la condicion\n",
        "x=50\n",
        "y=60\n",
        "\n",
        "print(\"x es mayor que y\") if(x>y) else print(\"y es mayor que x\")"
      ],
      "metadata": {
        "colab": {
          "base_uri": "https://localhost:8080/"
        },
        "id": "5akgDPn1nwDg",
        "outputId": "622721f6-4b15-4833-f171-40e7f5a76ef5"
      },
      "execution_count": null,
      "outputs": [
        {
          "output_type": "stream",
          "name": "stdout",
          "text": [
            "y es mayor que x\n"
          ]
        }
      ]
    },
    {
      "cell_type": "code",
      "source": [
        "#uso de ciclo while\n",
        "i=1\n",
        "while i<=10:\n",
        "  print(i)\n",
        "  i=i+1\n",
        "print(\"fuera del while\")"
      ],
      "metadata": {
        "colab": {
          "base_uri": "https://localhost:8080/"
        },
        "id": "Fm6pZUlQo_ku",
        "outputId": "50a2883c-9f52-487f-97f7-cdd90717f8c2"
      },
      "execution_count": null,
      "outputs": [
        {
          "output_type": "stream",
          "name": "stdout",
          "text": [
            "1\n",
            "2\n",
            "3\n",
            "4\n",
            "5\n",
            "6\n",
            "7\n",
            "8\n",
            "9\n",
            "10\n",
            "fuera del while\n"
          ]
        }
      ]
    },
    {
      "cell_type": "code",
      "source": [
        "#copiamos el ejemplo anterior para poner contexto BREAK\n",
        "#Agregamos una condicion para que se salga del ciclo cuando se cumpla un criterio\n",
        "i=1\n",
        "while i<=1000:\n",
        "  print(i)\n",
        "  if i==10:\n",
        "     print(\"dentro del if\")\n",
        "     break\n",
        "  i=i+1\n",
        "print(\"fuera del while\")"
      ],
      "metadata": {
        "colab": {
          "base_uri": "https://localhost:8080/"
        },
        "id": "y3m6ajUpqGJs",
        "outputId": "fbc97b2f-17c3-48cc-acc2-c4c1e881a159"
      },
      "execution_count": null,
      "outputs": [
        {
          "output_type": "stream",
          "name": "stdout",
          "text": [
            "1\n",
            "2\n",
            "3\n",
            "4\n",
            "5\n",
            "6\n",
            "7\n",
            "8\n",
            "9\n",
            "10\n",
            "dentro del if\n",
            "fuera del while\n"
          ]
        }
      ]
    },
    {
      "cell_type": "code",
      "source": [
        "while(True):\n",
        "  print(\"\"\"selecciona una opcion\n",
        "  1) opcion 1\n",
        "  2) opcion 2\n",
        "  3) salir\"\"\")\n",
        "  opcion=input(\"¿cual es la opcion que deseas? \")\n",
        "  if opcion=='1':\n",
        "    print(\"seleccionaste la opcion 1 \\n\")\n",
        "  elif opcion=='2':\n",
        "    print(\"seleccionaste la opcion 2 \\n\")\n",
        "  elif opcion=='3':\n",
        "     print(\"seleccionaste la opcion de salir \\n\")\n",
        "  else:\n",
        "    print(\"opcion desconocida, vuelve a intentarlo\")\n",
        "print(\"fuera del ciclo\")\n"
      ],
      "metadata": {
        "colab": {
          "base_uri": "https://localhost:8080/",
          "height": 700
        },
        "id": "tqrhr0MsrKU9",
        "outputId": "c24641f3-bc13-4057-c88e-40d29d6cdeec"
      },
      "execution_count": null,
      "outputs": [
        {
          "output_type": "stream",
          "name": "stdout",
          "text": [
            "selecciona una opcion\n",
            "  1) opcion 1 \n",
            "  2) opcion 2\n",
            "  3) salir\n",
            "¿cual es la opcion que deseas? 1\n",
            "seleccionaste la opcion 1 \n",
            "\n",
            "selecciona una opcion\n",
            "  1) opcion 1 \n",
            "  2) opcion 2\n",
            "  3) salir\n",
            "¿cual es la opcion que deseas? 2\n",
            "seleccionaste la opcion 2 \n",
            "\n",
            "selecciona una opcion\n",
            "  1) opcion 1 \n",
            "  2) opcion 2\n",
            "  3) salir\n"
          ]
        },
        {
          "output_type": "error",
          "ename": "KeyboardInterrupt",
          "evalue": "Interrupted by user",
          "traceback": [
            "\u001b[0;31m---------------------------------------------------------------------------\u001b[0m",
            "\u001b[0;31mKeyboardInterrupt\u001b[0m                         Traceback (most recent call last)",
            "\u001b[0;32m/tmp/ipython-input-3951479111.py\u001b[0m in \u001b[0;36m<cell line: 0>\u001b[0;34m()\u001b[0m\n\u001b[1;32m      4\u001b[0m   2) opcion 2\n\u001b[1;32m      5\u001b[0m   3) salir\"\"\")\n\u001b[0;32m----> 6\u001b[0;31m   \u001b[0mopcion\u001b[0m\u001b[0;34m=\u001b[0m\u001b[0minput\u001b[0m\u001b[0;34m(\u001b[0m\u001b[0;34m\"¿cual es la opcion que deseas? \"\u001b[0m\u001b[0;34m)\u001b[0m\u001b[0;34m\u001b[0m\u001b[0;34m\u001b[0m\u001b[0m\n\u001b[0m\u001b[1;32m      7\u001b[0m   \u001b[0;32mif\u001b[0m \u001b[0mopcion\u001b[0m\u001b[0;34m==\u001b[0m\u001b[0;34m'1'\u001b[0m\u001b[0;34m:\u001b[0m\u001b[0;34m\u001b[0m\u001b[0;34m\u001b[0m\u001b[0m\n\u001b[1;32m      8\u001b[0m     \u001b[0mprint\u001b[0m\u001b[0;34m(\u001b[0m\u001b[0;34m\"seleccionaste la opcion 1 \\n\"\u001b[0m\u001b[0;34m)\u001b[0m\u001b[0;34m\u001b[0m\u001b[0;34m\u001b[0m\u001b[0m\n",
            "\u001b[0;32m/usr/local/lib/python3.12/dist-packages/ipykernel/kernelbase.py\u001b[0m in \u001b[0;36mraw_input\u001b[0;34m(self, prompt)\u001b[0m\n\u001b[1;32m   1175\u001b[0m                 \u001b[0;34m\"raw_input was called, but this frontend does not support input requests.\"\u001b[0m\u001b[0;34m\u001b[0m\u001b[0;34m\u001b[0m\u001b[0m\n\u001b[1;32m   1176\u001b[0m             )\n\u001b[0;32m-> 1177\u001b[0;31m         return self._input_request(\n\u001b[0m\u001b[1;32m   1178\u001b[0m             \u001b[0mstr\u001b[0m\u001b[0;34m(\u001b[0m\u001b[0mprompt\u001b[0m\u001b[0;34m)\u001b[0m\u001b[0;34m,\u001b[0m\u001b[0;34m\u001b[0m\u001b[0;34m\u001b[0m\u001b[0m\n\u001b[1;32m   1179\u001b[0m             \u001b[0mself\u001b[0m\u001b[0;34m.\u001b[0m\u001b[0m_parent_ident\u001b[0m\u001b[0;34m[\u001b[0m\u001b[0;34m\"shell\"\u001b[0m\u001b[0;34m]\u001b[0m\u001b[0;34m,\u001b[0m\u001b[0;34m\u001b[0m\u001b[0;34m\u001b[0m\u001b[0m\n",
            "\u001b[0;32m/usr/local/lib/python3.12/dist-packages/ipykernel/kernelbase.py\u001b[0m in \u001b[0;36m_input_request\u001b[0;34m(self, prompt, ident, parent, password)\u001b[0m\n\u001b[1;32m   1217\u001b[0m             \u001b[0;32mexcept\u001b[0m \u001b[0mKeyboardInterrupt\u001b[0m\u001b[0;34m:\u001b[0m\u001b[0;34m\u001b[0m\u001b[0;34m\u001b[0m\u001b[0m\n\u001b[1;32m   1218\u001b[0m                 \u001b[0;31m# re-raise KeyboardInterrupt, to truncate traceback\u001b[0m\u001b[0;34m\u001b[0m\u001b[0;34m\u001b[0m\u001b[0m\n\u001b[0;32m-> 1219\u001b[0;31m                 \u001b[0;32mraise\u001b[0m \u001b[0mKeyboardInterrupt\u001b[0m\u001b[0;34m(\u001b[0m\u001b[0;34m\"Interrupted by user\"\u001b[0m\u001b[0;34m)\u001b[0m \u001b[0;32mfrom\u001b[0m \u001b[0;32mNone\u001b[0m\u001b[0;34m\u001b[0m\u001b[0;34m\u001b[0m\u001b[0m\n\u001b[0m\u001b[1;32m   1220\u001b[0m             \u001b[0;32mexcept\u001b[0m \u001b[0mException\u001b[0m\u001b[0;34m:\u001b[0m\u001b[0;34m\u001b[0m\u001b[0;34m\u001b[0m\u001b[0m\n\u001b[1;32m   1221\u001b[0m                 \u001b[0mself\u001b[0m\u001b[0;34m.\u001b[0m\u001b[0mlog\u001b[0m\u001b[0;34m.\u001b[0m\u001b[0mwarning\u001b[0m\u001b[0;34m(\u001b[0m\u001b[0;34m\"Invalid Message:\"\u001b[0m\u001b[0;34m,\u001b[0m \u001b[0mexc_info\u001b[0m\u001b[0;34m=\u001b[0m\u001b[0;32mTrue\u001b[0m\u001b[0;34m)\u001b[0m\u001b[0;34m\u001b[0m\u001b[0;34m\u001b[0m\u001b[0m\n",
            "\u001b[0;31mKeyboardInterrupt\u001b[0m: Interrupted by user"
          ]
        }
      ]
    },
    {
      "cell_type": "code",
      "source": [
        "#Declarar variables\n",
        "#En python no hay nesecidad de declarar el tipo de variable\n",
        "#cuando se le asigna un valor, automaticamente python ya sabe de que tipo es\n",
        "#python es CASE SENSITIVE es decir que es sensible a mayusculas a la hora de declarar variables\n",
        "#por lo tanto no es lo mismo la variable X mayuscula que x minuscula\n",
        "X=5\n",
        "MSG=\"HOLA MUNDO\"\n",
        "print(X)\n",
        "print(MSG)\n",
        "\n"
      ],
      "metadata": {
        "colab": {
          "base_uri": "https://localhost:8080/"
        },
        "id": "wrXuiOo56R0E",
        "outputId": "0bd4737f-2805-43af-ad8e-9b21e3e28d6c"
      },
      "execution_count": null,
      "outputs": [
        {
          "output_type": "stream",
          "name": "stdout",
          "text": [
            "5\n",
            "HOLA MUNDO\n"
          ]
        }
      ]
    },
    {
      "cell_type": "code",
      "source": [
        "#python es debilmente tipado, es decir, no hay necesidad de declarar el tipo de\n",
        "#variable y, ademas, la mimsma variable puede ser entera y en otra string o booleana\n",
        "print(type(X))\n",
        "X=\"HOLA\"\n",
        "print(type(X))"
      ],
      "metadata": {
        "colab": {
          "base_uri": "https://localhost:8080/"
        },
        "id": "yJjgoPKK7ytr",
        "outputId": "e83485b3-c674-43fd-f8ff-0a5b35780ddb"
      },
      "execution_count": null,
      "outputs": [
        {
          "output_type": "stream",
          "name": "stdout",
          "text": [
            "<class 'int'>\n",
            "<class 'str'>\n"
          ]
        }
      ]
    },
    {
      "cell_type": "code",
      "source": [
        "#si no se especifica un rango inicial por default inicia en cero\n",
        "#cuando se estable el limite o rango final siempre sera ese valor menos 1\n",
        "for x in range(5):\n",
        "  print(x)"
      ],
      "metadata": {
        "colab": {
          "base_uri": "https://localhost:8080/"
        },
        "id": "MX9V2NQPu21c",
        "outputId": "c6ab510b-6590-4e8d-d3e3-760cae2531e8"
      },
      "execution_count": 1,
      "outputs": [
        {
          "output_type": "stream",
          "name": "stdout",
          "text": [
            "0\n",
            "1\n",
            "2\n",
            "3\n",
            "4\n"
          ]
        }
      ]
    },
    {
      "cell_type": "code",
      "source": [
        "for z in range(2,5):\n",
        "  print(z)"
      ],
      "metadata": {
        "colab": {
          "base_uri": "https://localhost:8080/"
        },
        "id": "cZbh0A4Tvm8Q",
        "outputId": "40fb3d0b-1c7d-4479-c07d-efa8098df158"
      },
      "execution_count": 2,
      "outputs": [
        {
          "output_type": "stream",
          "name": "stdout",
          "text": [
            "2\n",
            "3\n",
            "4\n"
          ]
        }
      ]
    },
    {
      "cell_type": "code",
      "source": [
        "#tercer parametro para el incremento\n",
        "for z in range(1,25,2):\n",
        "  print(z)"
      ],
      "metadata": {
        "colab": {
          "base_uri": "https://localhost:8080/"
        },
        "id": "LvuSj1fBv642",
        "outputId": "b0cb506f-e8de-4447-f870-bec179795180"
      },
      "execution_count": 3,
      "outputs": [
        {
          "output_type": "stream",
          "name": "stdout",
          "text": [
            "1\n",
            "3\n",
            "5\n",
            "7\n",
            "9\n",
            "11\n",
            "13\n",
            "15\n",
            "17\n",
            "19\n",
            "21\n",
            "23\n"
          ]
        }
      ]
    },
    {
      "cell_type": "code",
      "source": [
        "print(\"la instruccion break\")\n",
        "variablez=True #variable de tipo booleana\n",
        "for i in range (1,6):\n",
        "  print(\"esto es un print dentro del for\")\n",
        "  if variablez:\n",
        "    print(\"entro al if\")\n",
        "    break\n",
        "print(\"fuera del for\")\n",
        "\n",
        "#continue-ejemplo\n",
        "print(\"la instrccion continue:\")\n",
        "for i in range (1,6):\n",
        "  if i==3:\n",
        "    print(\"dentro del bucle\",i)\n",
        "    continue\n",
        "print(\"fuera del bucle\")\n"
      ],
      "metadata": {
        "colab": {
          "base_uri": "https://localhost:8080/"
        },
        "id": "Bvy9XwVowuUR",
        "outputId": "138e9988-8a9d-4386-e62f-097d3332e914"
      },
      "execution_count": 6,
      "outputs": [
        {
          "output_type": "stream",
          "name": "stdout",
          "text": [
            "la instruccion break\n",
            "esto es un print dentro del for\n",
            "entro al if\n",
            "fuera del for\n",
            "la instrccion continue:\n",
            "dentro del bucle 3\n",
            "fuera del bucle\n"
          ]
        }
      ]
    },
    {
      "cell_type": "code",
      "source": [
        "frutas=[\"platano\",\"naranja\",\"manzana\"]\n",
        "for x in frutas:\n",
        "  print(x)\n",
        "  if x==\"naranja\":\n",
        "    break"
      ],
      "metadata": {
        "colab": {
          "base_uri": "https://localhost:8080/"
        },
        "id": "znTchcdbyCwz",
        "outputId": "505bf200-87ae-4f3a-ea01-504b7132c65f"
      },
      "execution_count": 8,
      "outputs": [
        {
          "output_type": "stream",
          "name": "stdout",
          "text": [
            "platano\n",
            "naranja\n"
          ]
        }
      ]
    },
    {
      "cell_type": "code",
      "source": [
        "n=0\n",
        "while n!= 3:\n",
        "  print(n)\n",
        "  n+=1\n",
        "else:\n",
        "  print(n,\"else\")\n",
        "print() #para generar espacio en blanco\n",
        "for i in range(0,3):\n",
        "    print(i)\n",
        "else:\n",
        "  print(i,\"else\")"
      ],
      "metadata": {
        "colab": {
          "base_uri": "https://localhost:8080/"
        },
        "id": "iY5mBgfd0VHJ",
        "outputId": "00cabc3d-331d-4164-cbb9-b8475f33f781"
      },
      "execution_count": 22,
      "outputs": [
        {
          "output_type": "stream",
          "name": "stdout",
          "text": [
            "0\n",
            "1\n",
            "2\n",
            "3 else\n",
            "\n",
            "0\n",
            "1\n",
            "2\n",
            "2 else\n"
          ]
        }
      ]
    },
    {
      "cell_type": "code",
      "source": [
        "def funcion_saludar():\n",
        "  print(\"hola mundo, desde mi funcion\")"
      ],
      "metadata": {
        "id": "63O6qmX22Uyv"
      },
      "execution_count": 25,
      "outputs": []
    },
    {
      "cell_type": "code",
      "source": [
        "funcion_saludar()"
      ],
      "metadata": {
        "colab": {
          "base_uri": "https://localhost:8080/"
        },
        "id": "o0UmcMrq3Chs",
        "outputId": "74fda6c8-203a-42bf-f0be-efe6b8c3f779"
      },
      "execution_count": 30,
      "outputs": [
        {
          "output_type": "stream",
          "name": "stdout",
          "text": [
            "hola mundo, desde mi funcion\n"
          ]
        }
      ]
    },
    {
      "cell_type": "code",
      "source": [
        "#parametros en funciones\n",
        "def tablas_multiplicar(x):\n",
        "  for z in range(1,11):\n",
        "    print(x,\"por\",z,\"=\",x*z)\n",
        "  print(\"fin de la funcion\")"
      ],
      "metadata": {
        "id": "u_Br5ND83TQZ"
      },
      "execution_count": 31,
      "outputs": []
    },
    {
      "cell_type": "code",
      "source": [
        "tablas_multiplicar(5)\n"
      ],
      "metadata": {
        "colab": {
          "base_uri": "https://localhost:8080/"
        },
        "id": "ShwfCrvb30UG",
        "outputId": "c0f28554-56b4-4469-e0a5-0e474df5f449"
      },
      "execution_count": 32,
      "outputs": [
        {
          "output_type": "stream",
          "name": "stdout",
          "text": [
            "5 por 1 = 5\n",
            "5 por 2 = 10\n",
            "5 por 3 = 15\n",
            "5 por 4 = 20\n",
            "5 por 5 = 25\n",
            "5 por 6 = 30\n",
            "5 por 7 = 35\n",
            "5 por 8 = 40\n",
            "5 por 9 = 45\n",
            "5 por 10 = 50\n",
            "fin de la funcion\n"
          ]
        }
      ]
    }
  ]
}