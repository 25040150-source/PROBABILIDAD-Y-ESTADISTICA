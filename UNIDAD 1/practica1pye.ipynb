{
  "nbformat": 4,
  "nbformat_minor": 0,
  "metadata": {
    "colab": {
      "provenance": [],
      "authorship_tag": "ABX9TyPqeOtBkoht27cr7pW4RFlA",
      "include_colab_link": true
    },
    "kernelspec": {
      "name": "python3",
      "display_name": "Python 3"
    },
    "language_info": {
      "name": "python"
    }
  },
  "cells": [
    {
      "cell_type": "markdown",
      "metadata": {
        "id": "view-in-github",
        "colab_type": "text"
      },
      "source": [
        "<a href=\"https://colab.research.google.com/github/25040150-source/PROBABILIDAD-Y-ESTADISTICA/blob/main/UNIDAD%201/practica1pye.ipynb\" target=\"_parent\"><img src=\"https://colab.research.google.com/assets/colab-badge.svg\" alt=\"Open In Colab\"/></a>"
      ]
    },
    {
      "cell_type": "markdown",
      "source": [],
      "metadata": {
        "id": "YVccc5T2JFxy"
      }
    },
    {
      "cell_type": "markdown",
      "source": [
        "#**PROBABILIDAD Y ESTADISTICA**\n",
        "##GRUPO 2Y\n",
        "UNIDAD 1\n",
        "\n",
        "MAESTRO:JOSE GABRIEL RODIGUEZ RIVAS\n",
        "\n",
        "ALUMNA:MARCELA PEREZ GURROLA\n",
        "\n",
        "\n",
        "\n",
        "\n",
        "**PRACTICA 1: MEDIDAS DE TENDENICA CENTRAL E HISTOGRAMAS**"
      ],
      "metadata": {
        "id": "YPZlVojHH4tb"
      }
    },
    {
      "cell_type": "code",
      "source": [
        "from statistics import*"
      ],
      "metadata": {
        "id": "_9b40eguJLT5"
      },
      "execution_count": 2,
      "outputs": []
    },
    {
      "cell_type": "code",
      "source": [
        "#lista de calificaciones del grupo a de probabilidad y estadistica\n",
        "gpo_a=[70,70,65,90,100,95,45,80,73,20,100,96]\n",
        "print(gpo_a)\n"
      ],
      "metadata": {
        "colab": {
          "base_uri": "https://localhost:8080/"
        },
        "id": "gyxO_GHF2vK_",
        "outputId": "9920cf7d-e2a9-44b8-9407-fefea9dff091"
      },
      "execution_count": null,
      "outputs": [
        {
          "output_type": "stream",
          "name": "stdout",
          "text": [
            "[70, 70, 65, 90, 100, 95, 45, 80, 73, 20, 100, 96]\n"
          ]
        }
      ]
    },
    {
      "cell_type": "code",
      "source": [
        "#la funcion type nos devuelve el tipo de dato de la variable\n",
        "type(gpo_a)"
      ],
      "metadata": {
        "colab": {
          "base_uri": "https://localhost:8080/"
        },
        "id": "GOtNJUYj3bUu",
        "outputId": "9a7dbb28-f9fd-4397-b30c-bb727fbab577"
      },
      "execution_count": null,
      "outputs": [
        {
          "output_type": "execute_result",
          "data": {
            "text/plain": [
              "list"
            ]
          },
          "metadata": {},
          "execution_count": 9
        }
      ]
    },
    {
      "cell_type": "code",
      "source": [
        "#sacar la media de las calificaciones\n",
        "promedio=sum(gpo_a)/len(gpo_a)\n",
        "print(promedio)"
      ],
      "metadata": {
        "colab": {
          "base_uri": "https://localhost:8080/"
        },
        "id": "eXRt-xO44E7q",
        "outputId": "d1935880-9bdd-4363-e817-8c5175186938"
      },
      "execution_count": null,
      "outputs": [
        {
          "output_type": "stream",
          "name": "stdout",
          "text": [
            "75.33333333333333\n"
          ]
        }
      ]
    },
    {
      "cell_type": "code",
      "source": [
        "#utilizar la funcion mean que esta en la libreria statistics\n",
        "promedio2=mean(gpo_a)\n",
        "print(promedio2)"
      ],
      "metadata": {
        "colab": {
          "base_uri": "https://localhost:8080/"
        },
        "id": "FAFhbpAF4gFt",
        "outputId": "4bde7a92-83b5-4abe-b32e-5dcd121f6757"
      },
      "execution_count": null,
      "outputs": [
        {
          "output_type": "stream",
          "name": "stdout",
          "text": [
            "75.33333333333333\n"
          ]
        }
      ]
    },
    {
      "cell_type": "code",
      "source": [
        "#determinar el valor de la mediana con la funcon median\n",
        "mediana=median(gpo_a)\n",
        "print(mediana)"
      ],
      "metadata": {
        "colab": {
          "base_uri": "https://localhost:8080/"
        },
        "id": "cBZz-g6b40s5",
        "outputId": "dd56173b-bf46-4c1c-fde8-5e8dec412efd"
      },
      "execution_count": null,
      "outputs": [
        {
          "output_type": "stream",
          "name": "stdout",
          "text": [
            "76.5\n"
          ]
        }
      ]
    },
    {
      "cell_type": "code",
      "source": [
        "#determinar el valor de la moda con la funcion mode\n",
        "moda=mode(gpo_a)\n",
        "print(moda)"
      ],
      "metadata": {
        "colab": {
          "base_uri": "https://localhost:8080/"
        },
        "id": "zeMoq_8M5bsU",
        "outputId": "90816803-efd6-4b3f-efb0-a9477f38b42b"
      },
      "execution_count": null,
      "outputs": [
        {
          "output_type": "stream",
          "name": "stdout",
          "text": [
            "70\n"
          ]
        }
      ]
    },
    {
      "cell_type": "code",
      "source": [
        "#en caso de que exista mas de una moda, se puede\n",
        "#utilizar la funcion multimode\n",
        "moda2=multimode(gpo_a)\n",
        "print(moda2)"
      ],
      "metadata": {
        "colab": {
          "base_uri": "https://localhost:8080/"
        },
        "id": "GKloMLcL5o7v",
        "outputId": "c9b7778d-3808-40f9-8f76-6c1ae88ef312"
      },
      "execution_count": null,
      "outputs": [
        {
          "output_type": "stream",
          "name": "stdout",
          "text": [
            "[70, 100]\n"
          ]
        }
      ]
    },
    {
      "cell_type": "code",
      "source": [
        "#definimos una variable llamda tiempos100mts de tipo lista,que contiene\n",
        "#tiempos que tardaron los 10 alumnos para correr 100 metros\n",
        "tiempos100mts=[10,17.20,20,6.9,13.27,22.15,18.71,19.15,15.10,17.20]\n"
      ],
      "metadata": {
        "id": "1BF3MDtC6JWT"
      },
      "execution_count": null,
      "outputs": []
    },
    {
      "cell_type": "code",
      "source": [
        "#usamos lafuncion mean para determinar el tiempo promedio\n",
        "print(\"el tiempo promedio de los corredores es\",mean(tiempos100mts))\n"
      ],
      "metadata": {
        "colab": {
          "base_uri": "https://localhost:8080/"
        },
        "id": "PuyfqRG3665X",
        "outputId": "f3c494f9-96b9-4457-af00-d07abdebcde0"
      },
      "execution_count": null,
      "outputs": [
        {
          "output_type": "stream",
          "name": "stdout",
          "text": [
            "el tiempo promedio de los corredores es 15.968\n"
          ]
        }
      ]
    },
    {
      "cell_type": "code",
      "source": [
        "#usamos la funcion median para calcular la mediana\n",
        "mediana=median(tiempos100mts)\n",
        "print(\"la mediana de los tiempos de los corredores es\",mediana)"
      ],
      "metadata": {
        "colab": {
          "base_uri": "https://localhost:8080/"
        },
        "id": "Q_knZN0C7dn4",
        "outputId": "58a999e1-f602-4780-b8b7-d570eec0157a"
      },
      "execution_count": null,
      "outputs": [
        {
          "output_type": "stream",
          "name": "stdout",
          "text": [
            "la mediana de los tiempos de los corredores es 17.2\n"
          ]
        }
      ]
    },
    {
      "cell_type": "code",
      "source": [
        "#definir variable para sacar la moda\n",
        "moda=mode(tiempos100mts)\n",
        "print(\"la moda de los tiempos de los corredores es\",moda)"
      ],
      "metadata": {
        "colab": {
          "base_uri": "https://localhost:8080/"
        },
        "id": "Dafw05DT7z3X",
        "outputId": "20e18f99-c506-4705-d330-c689ca8aad16"
      },
      "execution_count": null,
      "outputs": [
        {
          "output_type": "stream",
          "name": "stdout",
          "text": [
            "la moda de los tiempos de los corredores es 17.2\n"
          ]
        }
      ]
    },
    {
      "cell_type": "code",
      "source": [
        "#definir variable para sacar la moda\n",
        "multimoda=multimode(tiempos100mts)\n",
        "print(\"la multimoda de los tiempos de los corredores es\",multimoda)"
      ],
      "metadata": {
        "colab": {
          "base_uri": "https://localhost:8080/"
        },
        "id": "HBw3urjd8UIx",
        "outputId": "3cb76352-2033-44b4-b909-a767c5be2022"
      },
      "execution_count": null,
      "outputs": [
        {
          "output_type": "stream",
          "name": "stdout",
          "text": [
            "la multimoda de los tiempos de los corredores es [17.2]\n"
          ]
        }
      ]
    },
    {
      "cell_type": "code",
      "source": [
        "#libreria para generar numeros aleatorios\n",
        "import random"
      ],
      "metadata": {
        "id": "gAIXsmnX8t1r"
      },
      "execution_count": null,
      "outputs": []
    },
    {
      "cell_type": "code",
      "source": [
        "fabrica1=[]\n",
        "for i in range(100):\n",
        "  numero_aleatorio=round(random.uniform(50,100),2)\n",
        "  fabrica1.append(numero_aleatorio)\n",
        "print(fabrica1)"
      ],
      "metadata": {
        "colab": {
          "base_uri": "https://localhost:8080/"
        },
        "id": "UllroRiT9OTg",
        "outputId": "14c70f40-3d4e-4021-c841-c9928e85756c"
      },
      "execution_count": null,
      "outputs": [
        {
          "output_type": "stream",
          "name": "stdout",
          "text": [
            "[82.99, 78.81, 65.54, 95.05, 96.32, 80.22, 70.85, 94.81, 78.52, 79.79, 80.38, 76.37, 53.21, 70.1, 56.71, 99.19, 90.82, 61.28, 60.57, 51.64, 80.46, 60.69, 96.41, 75.98, 99.14, 51.29, 76.99, 51.49, 80.08, 68.07, 69.83, 58.54, 68.99, 77.97, 82.22, 50.71, 89.48, 50.86, 90.31, 80.11, 99.65, 58.57, 85.11, 88.75, 76.51, 55.84, 87.83, 75.01, 74.21, 83.76, 90.13, 88.7, 61.44, 92.52, 98.77, 68.75, 78.31, 88.25, 94.08, 68.94, 97.68, 81.66, 53.82, 91.7, 68.29, 99.38, 67.63, 65.74, 85.14, 91.64, 69.57, 55.44, 88.79, 94.36, 66.59, 93.17, 80.78, 58.46, 92.89, 88.03, 81.3, 68.0, 96.8, 67.02, 98.72, 85.88, 56.48, 88.07, 87.77, 82.14, 66.2, 81.26, 94.52, 89.25, 96.28, 85.95, 85.42, 50.41, 84.46, 97.65]\n"
          ]
        }
      ]
    },
    {
      "cell_type": "code",
      "source": [
        "fabrica2=[]\n",
        "for i in range(100):\n",
        "  numero_aleatorio2=round(random.uniform(40,93),2)\n",
        "  fabrica2.append(numero_aleatorio2)\n",
        "print(fabrica2)"
      ],
      "metadata": {
        "colab": {
          "base_uri": "https://localhost:8080/"
        },
        "id": "Sy3aURot_6Kn",
        "outputId": "4979c350-82c9-47c2-b8aa-9f6e7f92c0f4"
      },
      "execution_count": null,
      "outputs": [
        {
          "output_type": "stream",
          "name": "stdout",
          "text": [
            "[55.16, 45.78, 81.44, 59.48, 48.29, 57.96, 40.57, 65.72, 66.37, 49.83, 43.61, 45.92, 87.19, 63.35, 55.78, 82.57, 69.52, 55.29, 69.31, 91.49, 92.02, 64.11, 89.1, 57.54, 84.18, 47.05, 85.88, 79.83, 40.08, 75.87, 68.53, 41.11, 61.79, 63.5, 58.18, 51.41, 79.45, 87.35, 59.31, 75.91, 70.49, 89.02, 85.86, 49.31, 87.29, 58.18, 72.7, 71.22, 43.54, 92.19, 63.52, 56.93, 78.66, 57.4, 92.54, 43.96, 74.78, 52.29, 69.3, 77.29, 49.69, 61.16, 64.91, 48.88, 76.16, 78.07, 61.19, 52.91, 70.1, 42.11, 81.42, 71.87, 47.26, 53.7, 45.89, 54.38, 76.71, 74.44, 64.14, 60.12, 40.69, 48.53, 85.03, 81.77, 57.94, 75.13, 76.43, 66.13, 55.17, 77.4, 86.9, 91.29, 65.08, 86.93, 45.26, 90.13, 62.29, 86.09, 61.87, 59.72]\n"
          ]
        }
      ]
    },
    {
      "cell_type": "code",
      "source": [
        "#importacion de libreria\n",
        "import matplotlib.pyplot as plt\n",
        "plt.hist(fabrica1)\n",
        "plt.title(\"PRODUCCION DIARIA DE LA FABRICA 1\")\n"
      ],
      "metadata": {
        "colab": {
          "base_uri": "https://localhost:8080/",
          "height": 470
        },
        "id": "vhkMDK9vAi43",
        "outputId": "4341e8ac-d0b7-431b-8220-41aac33c685a"
      },
      "execution_count": null,
      "outputs": [
        {
          "output_type": "execute_result",
          "data": {
            "text/plain": [
              "Text(0.5, 1.0, 'PRODUCCION DIARIA DE LA FABRICA 1')"
            ]
          },
          "metadata": {},
          "execution_count": 24
        },
        {
          "output_type": "display_data",
          "data": {
            "text/plain": [
              "<Figure size 640x480 with 1 Axes>"
            ],
            "image/png": "[encoded data removed]"
          },
          "metadata": {}
        }
      ]
    },
    {
      "cell_type": "code",
      "source": [
        "plt.hist(fabrica1)\n",
        "plt.title(\"PRODUCCION DIARIA DE LA FABRICA 2\")"
      ],
      "metadata": {
        "colab": {
          "base_uri": "https://localhost:8080/",
          "height": 470
        },
        "id": "ZCZLHoMYCw5V",
        "outputId": "30f0f58c-b077-433d-e2d9-271b3582a818"
      },
      "execution_count": null,
      "outputs": [
        {
          "output_type": "execute_result",
          "data": {
            "text/plain": [
              "Text(0.5, 1.0, 'PRODUCCION DIARIA DE LA FABRICA 2')"
            ]
          },
          "metadata": {},
          "execution_count": 14
        },
        {
          "output_type": "display_data",
          "data": {
            "text/plain": [
              "<Figure size 640x480 with 1 Axes>"
            ],
            "image/png": "[encoded data removed]"
          },
          "metadata": {}
        }
      ]
    },
    {
      "cell_type": "code",
      "source": [
        "media1= mean(fabrica1)\n",
        "mediana1= median(fabrica1)\n",
        "moda1= mode(fabrica1)\n",
        "print(\"VALORES DE LA FABRICA 1\")\n",
        "print(\"la media es\",media1)\n",
        "print(\"la mediana es\",mediana1)\n",
        "print(\"la moda es\",moda1)"
      ],
      "metadata": {
        "colab": {
          "base_uri": "https://localhost:8080/"
        },
        "id": "NueIvuasDK2t",
        "outputId": "0d09ac80-56a3-4f80-ab26-ca05e278f4e2"
      },
      "execution_count": null,
      "outputs": [
        {
          "output_type": "stream",
          "name": "stdout",
          "text": [
            "VALORES DE LA FABRICA 1\n",
            "la media es 78.3226\n",
            "la mediana es 80.41999999999999\n",
            "la moda es 82.99\n"
          ]
        }
      ]
    },
    {
      "cell_type": "code",
      "source": [
        "media2= mean(fabrica2)\n",
        "mediana2= median(fabrica2)\n",
        "moda2= mode(fabrica2)\n",
        "print(\"VALORES DE LA FABRICA 2\")\n",
        "print(\"la media es\",media2)\n",
        "print(\"la mediana es\",mediana2)\n",
        "print(\"la moda es\",moda2)"
      ],
      "metadata": {
        "colab": {
          "base_uri": "https://localhost:8080/"
        },
        "id": "aYEDPLlWEN8r",
        "outputId": "cec0966f-9f10-49d3-92e5-51ae14247191"
      },
      "execution_count": null,
      "outputs": [
        {
          "output_type": "stream",
          "name": "stdout",
          "text": [
            "VALORES DE LA FABRICA 2\n",
            "la media es 66.1819\n",
            "la mediana es 64.525\n",
            "la moda es 58.18\n"
          ]
        }
      ]
    },
    {
      "cell_type": "code",
      "source": [
        "#generar 2 suplot de 1 renglonnpor dos columnas para desplegar los dos histogramas,\n",
        "#una al lado de la otra\n",
        "fig,(ax1, ax2) =plt.subplots(nrows=1,ncols=2,figsize=(10,5))\n",
        "ax1.hist(fabrica1)\n",
        "ax2.hist(fabrica2)\n",
        "plt.show()\n"
      ],
      "metadata": {
        "colab": {
          "base_uri": "https://localhost:8080/",
          "height": 445
        },
        "id": "gMXaQPcaFLZZ",
        "outputId": "b160057c-b86f-4c26-d4e1-d74bfd6c58c0"
      },
      "execution_count": null,
      "outputs": [
        {
          "output_type": "display_data",
          "data": {
            "text/plain": [
              "<Figure size 1000x500 with 2 Axes>"
            ],
            "image/png": "[encoded data removed]"
          },
          "metadata": {}
        }
      ]
    },
    {
      "cell_type": "code",
      "source": [
        "\n",
        "plt.hist(fabrica1,bins=10,alpha=0.2,color='b',edgecolor=\"black\")\n",
        "plt.axvline(media1,color='b',linestyle='dashed',linewidth=2,label='Media')\n",
        "plt.axvline(mediana1,color='r',linestyle='dashed',linewidth=2,label='Mediana')\n",
        "plt.axvline(moda1,color='y',linestyle='dashed',linewidth=2,label='Moda')\n",
        "plt.xlabel('valor')\n",
        "plt.ylabel('frecuencia')\n",
        "plt.title(\"PRODUCCION DIARIA DE LA FABRICA 1\")\n",
        "plt.legend()\n",
        "plt.show()"
      ],
      "metadata": {
        "colab": {
          "base_uri": "https://localhost:8080/",
          "height": 472
        },
        "id": "vEiWexhqHA1g",
        "outputId": "7a3e2a0e-2559-45d5-a778-9b6da1bfeeae"
      },
      "execution_count": null,
      "outputs": [
        {
          "output_type": "display_data",
          "data": {
            "text/plain": [
              "<Figure size 640x480 with 1 Axes>"
            ],
            "image/png": "[encoded data removed]"
          },
          "metadata": {}
        }
      ]
    },
    {
      "cell_type": "code",
      "source": [
        "plt.hist(fabrica2,bins=10,alpha=0.2,color='b',edgecolor=\"black\")\n",
        "plt.axvline(media2,color='b',linestyle='dashed',linewidth=2,label='Media')\n",
        "plt.axvline(mediana2,color='r',linestyle='dashed',linewidth=2,label='Mediana')\n",
        "plt.axvline(moda2,color='y',linestyle='dashed',linewidth=2,label='Moda')\n",
        "plt.xlabel('valor')\n",
        "plt.ylabel('frecuencia')\n",
        "plt.title(\"PRODUCCION DIARIA DE LA FABRICA 2\")\n",
        "plt.legend()\n",
        "plt.show()"
      ],
      "metadata": {
        "id": "yc4Ba_TCKHmU",
        "colab": {
          "base_uri": "https://localhost:8080/",
          "height": 472
        },
        "outputId": "0c59f889-797d-4b2f-cb2e-8090e49b2f70"
      },
      "execution_count": null,
      "outputs": [
        {
          "output_type": "display_data",
          "data": {
            "text/plain": [
              "<Figure size 640x480 with 1 Axes>"
            ],
            "image/png": "[encoded data removed]"
          },
          "metadata": {}
        }
      ]
    }
  ]
}