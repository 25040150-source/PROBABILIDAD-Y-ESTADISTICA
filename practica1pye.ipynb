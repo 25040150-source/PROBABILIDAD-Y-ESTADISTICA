{
  "nbformat": 4,
  "nbformat_minor": 0,
  "metadata": {
    "colab": {
      "provenance": [],
      "authorship_tag": "ABX9TyOEb53kEhQqsq1lGv79C7eC",
      "include_colab_link": true
    },
    "kernelspec": {
      "name": "python3",
      "display_name": "Python 3"
    },
    "language_info": {
      "name": "python"
    }
  },
  "cells": [
    {
      "cell_type": "markdown",
      "metadata": {
        "id": "view-in-github",
        "colab_type": "text"
      },
      "source": [
        "<a href=\"https://colab.research.google.com/github/25040150-source/PROBABILIDAD-Y-ESTADISTICA/blob/main/practica1pye.ipynb\" target=\"_parent\"><img src=\"https://colab.research.google.com/assets/colab-badge.svg\" alt=\"Open In Colab\"/></a>"
      ]
    },
    {
      "cell_type": "code",
      "execution_count": 4,
      "metadata": {
        "id": "Ljxl0Lzr19yS"
      },
      "outputs": [],
      "source": [
        "from statistics import*"
      ]
    },
    {
      "cell_type": "code",
      "source": [
        "#lista de calificaciones del grupo a de probabilidad y estadistica\n",
        "gpo_a=[70,70,65,90,100,95,45,80,73,20,100,96]\n",
        "print(gpo_a)\n"
      ],
      "metadata": {
        "colab": {
          "base_uri": "https://localhost:8080/"
        },
        "id": "gyxO_GHF2vK_",
        "outputId": "2bdd8358-16dc-4bf8-97f2-c3a836fdad31"
      },
      "execution_count": 5,
      "outputs": [
        {
          "output_type": "stream",
          "name": "stdout",
          "text": [
            "[70, 70, 65, 90, 100, 95, 45, 80, 73, 20, 100, 96]\n"
          ]
        }
      ]
    },
    {
      "cell_type": "code",
      "source": [
        "#la funcion type nos devuelve el tipo de dato de la variable\n",
        "type(gpo_a)"
      ],
      "metadata": {
        "colab": {
          "base_uri": "https://localhost:8080/"
        },
        "id": "GOtNJUYj3bUu",
        "outputId": "2c88906e-9bfd-4986-9d5b-87f62f12833b"
      },
      "execution_count": 6,
      "outputs": [
        {
          "output_type": "execute_result",
          "data": {
            "text/plain": [
              "list"
            ]
          },
          "metadata": {},
          "execution_count": 6
        }
      ]
    },
    {
      "cell_type": "code",
      "source": [
        "#sacar la media de las calificaciones\n",
        "promedio=sum(gpo_a)/len(gpo_a)\n",
        "print(promedio)"
      ],
      "metadata": {
        "colab": {
          "base_uri": "https://localhost:8080/"
        },
        "id": "eXRt-xO44E7q",
        "outputId": "203f24d0-8396-4571-e396-c55fbc707504"
      },
      "execution_count": 7,
      "outputs": [
        {
          "output_type": "stream",
          "name": "stdout",
          "text": [
            "75.33333333333333\n"
          ]
        }
      ]
    },
    {
      "cell_type": "code",
      "source": [
        "#utilizar la funcion mean que esta en la libreria statistics\n",
        "promedio2=mean(gpo_a)\n",
        "print(promedio2)"
      ],
      "metadata": {
        "colab": {
          "base_uri": "https://localhost:8080/"
        },
        "id": "FAFhbpAF4gFt",
        "outputId": "e15e3966-7a3c-4f49-8d18-cd14d10347a7"
      },
      "execution_count": 8,
      "outputs": [
        {
          "output_type": "stream",
          "name": "stdout",
          "text": [
            "75.33333333333333\n"
          ]
        }
      ]
    },
    {
      "cell_type": "code",
      "source": [
        "#determinar el valor de la mediana con la funcon median\n",
        "mediana=median(gpo_a)\n",
        "print(mediana)"
      ],
      "metadata": {
        "colab": {
          "base_uri": "https://localhost:8080/"
        },
        "id": "cBZz-g6b40s5",
        "outputId": "a5b118cd-aa98-4768-fcc9-02a1c1295f4a"
      },
      "execution_count": 9,
      "outputs": [
        {
          "output_type": "stream",
          "name": "stdout",
          "text": [
            "76.5\n"
          ]
        }
      ]
    },
    {
      "cell_type": "code",
      "source": [
        "#determinar el valor de la moda con la funcion mode\n",
        "moda=mode(gpo_a)\n",
        "print(moda)"
      ],
      "metadata": {
        "colab": {
          "base_uri": "https://localhost:8080/"
        },
        "id": "zeMoq_8M5bsU",
        "outputId": "d9bb9acc-841f-457a-e251-e3301d7fa340"
      },
      "execution_count": 10,
      "outputs": [
        {
          "output_type": "stream",
          "name": "stdout",
          "text": [
            "70\n"
          ]
        }
      ]
    },
    {
      "cell_type": "code",
      "source": [
        "#en caso de que exista mas de una moda, se puede\n",
        "#utilizar la funcion multimode\n",
        "moda2=multimode(gpo_a)\n",
        "print(moda2)"
      ],
      "metadata": {
        "colab": {
          "base_uri": "https://localhost:8080/"
        },
        "id": "GKloMLcL5o7v",
        "outputId": "ba156211-9805-460c-9027-8db9b93c70dd"
      },
      "execution_count": 11,
      "outputs": [
        {
          "output_type": "stream",
          "name": "stdout",
          "text": [
            "[70, 100]\n"
          ]
        }
      ]
    },
    {
      "cell_type": "code",
      "source": [
        "#definimos una variable llamda tiempos100mts de tipo lista,que contiene\n",
        "#tiempos que tardaron los 10 alumnos para correr 100 metros\n",
        "tiempos100mts=[10,17.20,20,6.9,13.27,22.15,18.71,19.15,15.10,17.20]\n"
      ],
      "metadata": {
        "id": "1BF3MDtC6JWT"
      },
      "execution_count": 12,
      "outputs": []
    },
    {
      "cell_type": "code",
      "source": [
        "#usamos lafuncion mean para determinar el tiempo promedio\n",
        "print(\"el tiempo promedio de los corredores es\",mean(tiempos100mts))\n"
      ],
      "metadata": {
        "colab": {
          "base_uri": "https://localhost:8080/"
        },
        "id": "PuyfqRG3665X",
        "outputId": "c250e96b-0092-4e3d-a1e8-43014b8127d6"
      },
      "execution_count": 13,
      "outputs": [
        {
          "output_type": "stream",
          "name": "stdout",
          "text": [
            "el tiempo promedio de los corredores es 15.968\n"
          ]
        }
      ]
    },
    {
      "cell_type": "code",
      "source": [
        "#usamos la funcion median para calcular la mediana\n",
        "mediana=median(tiempos100mts)\n",
        "print(\"la mediana de los tiempos de los corredores es\",mediana)"
      ],
      "metadata": {
        "colab": {
          "base_uri": "https://localhost:8080/"
        },
        "id": "Q_knZN0C7dn4",
        "outputId": "7154932e-5897-4baa-b4e5-d8d862faa6d2"
      },
      "execution_count": 14,
      "outputs": [
        {
          "output_type": "stream",
          "name": "stdout",
          "text": [
            "la mediana de los tiempos de los corredores es 17.2\n"
          ]
        }
      ]
    },
    {
      "cell_type": "code",
      "source": [
        "#definir variable para sacar la moda\n",
        "moda=mode(tiempos100mts)\n",
        "print(\"la moda de los tiempos de los corredores es\",moda)"
      ],
      "metadata": {
        "colab": {
          "base_uri": "https://localhost:8080/"
        },
        "id": "Dafw05DT7z3X",
        "outputId": "c3ee1767-19df-415e-9d1f-388426d86b44"
      },
      "execution_count": 15,
      "outputs": [
        {
          "output_type": "stream",
          "name": "stdout",
          "text": [
            "la moda de los tiempos de los corredores es 17.2\n"
          ]
        }
      ]
    },
    {
      "cell_type": "code",
      "source": [
        "#definir variable para sacar la moda\n",
        "multimoda=multimode(tiempos100mts)\n",
        "print(\"la multimoda de los tiempos de los corredores es\",multimoda)"
      ],
      "metadata": {
        "colab": {
          "base_uri": "https://localhost:8080/"
        },
        "id": "HBw3urjd8UIx",
        "outputId": "04dd126d-3bc3-49ee-b5d7-a81d307d6ebc"
      },
      "execution_count": 16,
      "outputs": [
        {
          "output_type": "stream",
          "name": "stdout",
          "text": [
            "la multimoda de los tiempos de los corredores es [17.2]\n"
          ]
        }
      ]
    },
    {
      "cell_type": "code",
      "source": [
        "#libreria para generar numeros aleatorios\n",
        "import random"
      ],
      "metadata": {
        "id": "gAIXsmnX8t1r"
      },
      "execution_count": 17,
      "outputs": []
    },
    {
      "cell_type": "code",
      "source": [
        "fabrica1=[]\n",
        "for i in range(100):\n",
        "  numero_aleatorio=round(random.uniform(50,100),2)\n",
        "  fabrica1.append(numero_aleatorio)\n",
        "print(fabrica1)"
      ],
      "metadata": {
        "colab": {
          "base_uri": "https://localhost:8080/"
        },
        "id": "UllroRiT9OTg",
        "outputId": "d6107445-b194-4631-e5dc-63b5c8a74bbe"
      },
      "execution_count": 18,
      "outputs": [
        {
          "output_type": "stream",
          "name": "stdout",
          "text": [
            "[65.17, 98.95, 95.86, 82.51, 67.95, 58.0, 67.16, 63.69, 68.09, 81.47, 93.68, 69.06, 51.64, 60.06, 93.87, 93.43, 63.58, 74.56, 62.73, 57.41, 88.75, 54.67, 54.2, 69.07, 81.31, 50.63, 79.62, 62.77, 83.31, 50.32, 89.19, 61.31, 77.0, 50.18, 75.49, 87.6, 54.37, 83.2, 92.6, 91.66, 95.2, 85.67, 56.56, 58.24, 52.12, 91.2, 92.31, 99.79, 71.58, 63.46, 86.07, 86.54, 97.02, 92.73, 96.2, 62.9, 93.0, 53.2, 87.26, 53.16, 76.9, 82.94, 69.3, 68.48, 74.17, 98.93, 78.14, 81.25, 65.83, 84.83, 62.18, 89.76, 75.89, 97.08, 96.7, 58.71, 64.8, 60.58, 61.61, 72.51, 51.72, 72.37, 50.65, 82.26, 55.09, 57.27, 52.7, 76.15, 69.71, 74.93, 95.52, 62.37, 69.07, 85.39, 65.58, 93.48, 82.81, 87.46, 75.27, 62.34]\n"
          ]
        }
      ]
    },
    {
      "cell_type": "code",
      "source": [
        "fabrica2=[]\n",
        "for i in range(100):\n",
        "  numero_aleatorio2=round(random.uniform(40,93),2)\n",
        "  fabrica2.append(numero_aleatorio2)\n",
        "print(fabrica2)"
      ],
      "metadata": {
        "colab": {
          "base_uri": "https://localhost:8080/"
        },
        "id": "Sy3aURot_6Kn",
        "outputId": "1808a894-95e3-475c-981a-3f0262fe3a8e"
      },
      "execution_count": 19,
      "outputs": [
        {
          "output_type": "stream",
          "name": "stdout",
          "text": [
            "[71.38, 80.63, 55.91, 67.3, 44.3, 91.63, 57.36, 73.64, 62.92, 45.79, 80.2, 46.03, 76.7, 82.49, 80.72, 86.65, 74.13, 83.92, 63.71, 63.37, 90.55, 47.45, 92.53, 76.55, 87.63, 89.35, 72.9, 63.69, 58.77, 80.56, 76.44, 75.5, 80.72, 43.4, 71.47, 88.23, 58.06, 91.2, 77.63, 81.45, 64.36, 54.28, 59.08, 47.43, 84.79, 76.51, 55.99, 63.91, 51.67, 76.42, 57.06, 76.97, 70.3, 75.63, 49.71, 78.1, 64.31, 53.7, 82.16, 84.82, 54.64, 60.14, 60.99, 54.89, 53.46, 50.97, 84.45, 74.73, 68.62, 56.12, 48.73, 68.06, 88.84, 70.9, 50.39, 49.79, 85.89, 45.03, 46.78, 90.85, 41.2, 56.96, 77.46, 50.93, 91.87, 40.5, 56.55, 84.38, 49.77, 79.06, 67.43, 77.57, 46.93, 85.22, 54.48, 67.95, 62.33, 87.32, 51.49, 80.59]\n"
          ]
        }
      ]
    },
    {
      "cell_type": "code",
      "source": [
        "#importacion de libreria\n",
        "import matplotlib.pyplot as plt\n",
        "plt.hist(fabrica1)\n",
        "plt.title(\"PRODUCCION DIARIA DE LA FABRICA 1\")\n"
      ],
      "metadata": {
        "colab": {
          "base_uri": "https://localhost:8080/",
          "height": 469
        },
        "id": "vhkMDK9vAi43",
        "outputId": "c8649b28-9883-4627-eacb-fc4a3702803e"
      },
      "execution_count": 20,
      "outputs": [
        {
          "output_type": "execute_result",
          "data": {
            "text/plain": [
              "Text(0.5, 1.0, 'PRODUCCION DIARIA DE LA FABRICA 1')"
            ]
          },
          "metadata": {},
          "execution_count": 20
        },
        {
          "output_type": "display_data",
          "data": {
            "text/plain": [
              "<Figure size 640x480 with 1 Axes>"
            ],
            "image/png": "[encoded data removed]"
          },
          "metadata": {}
        }
      ]
    },
    {
      "cell_type": "code",
      "source": [
        "plt.hist(fabrica1)\n",
        "plt.title(\"PRODUCCION DIARIA DE LA FABRICA 2\")"
      ],
      "metadata": {
        "colab": {
          "base_uri": "https://localhost:8080/",
          "height": 469
        },
        "id": "ZCZLHoMYCw5V",
        "outputId": "ed5193eb-a45c-4468-a499-8e63a829ef91"
      },
      "execution_count": 21,
      "outputs": [
        {
          "output_type": "execute_result",
          "data": {
            "text/plain": [
              "Text(0.5, 1.0, 'PRODUCCION DIARIA DE LA FABRICA 2')"
            ]
          },
          "metadata": {},
          "execution_count": 21
        },
        {
          "output_type": "display_data",
          "data": {
            "text/plain": [
              "<Figure size 640x480 with 1 Axes>"
            ],
            "image/png": "[encoded data removed]"
          },
          "metadata": {}
        }
      ]
    },
    {
      "cell_type": "code",
      "source": [
        "media1= mean(fabrica1)\n",
        "mediana1= median(fabrica1)\n",
        "moda1= mode(fabrica1)\n",
        "print(\"VALORES DE LA FABRICA 1\")\n",
        "print(\"la media es\",media1)\n",
        "print(\"la mediana es\",mediana1)\n",
        "print(\"la moda es\",moda1)"
      ],
      "metadata": {
        "colab": {
          "base_uri": "https://localhost:8080/"
        },
        "id": "NueIvuasDK2t",
        "outputId": "d6271743-3769-48e0-9eb3-dfb852e5bb3a"
      },
      "execution_count": 22,
      "outputs": [
        {
          "output_type": "stream",
          "name": "stdout",
          "text": [
            "VALORES DE LA FABRICA 1\n",
            "la media es 74.2306\n",
            "la mediana es 74.36500000000001\n",
            "la moda es 69.07\n"
          ]
        }
      ]
    },
    {
      "cell_type": "code",
      "source": [
        "media2= mean(fabrica2)\n",
        "mediana2= median(fabrica2)\n",
        "moda2= mode(fabrica2)\n",
        "print(\"VALORES DE LA FABRICA 2\")\n",
        "print(\"la media es\",media2)\n",
        "print(\"la mediana es\",mediana2)\n",
        "print(\"la moda es\",moda2)"
      ],
      "metadata": {
        "colab": {
          "base_uri": "https://localhost:8080/"
        },
        "id": "aYEDPLlWEN8r",
        "outputId": "23b2b8ea-7474-4985-ac02-4a927f936d30"
      },
      "execution_count": 23,
      "outputs": [
        {
          "output_type": "stream",
          "name": "stdout",
          "text": [
            "VALORES DE LA FABRICA 2\n",
            "la media es 67.9432\n",
            "la mediana es 68.34\n",
            "la moda es 80.72\n"
          ]
        }
      ]
    },
    {
      "cell_type": "code",
      "source": [
        "#generar 2 suplot de 1 renglonnpor dos columnas para desplegar los dos histogramas,\n",
        "#una al lado de la otra\n",
        "fig,(ax1, ax2) =plt.subplots(nrows=1,ncols=2,figsize=(10,5))\n",
        "ax1.hist(fabrica1)\n",
        "ax2.hist(fabrica2)\n",
        "plt.show()\n"
      ],
      "metadata": {
        "colab": {
          "base_uri": "https://localhost:8080/",
          "height": 445
        },
        "id": "gMXaQPcaFLZZ",
        "outputId": "d95156e3-de98-4433-caf2-5d217716d9ca"
      },
      "execution_count": 24,
      "outputs": [
        {
          "output_type": "display_data",
          "data": {
            "text/plain": [
              "<Figure size 1000x500 with 2 Axes>"
            ],
            "image/png": "[encoded data removed]"
          },
          "metadata": {}
        }
      ]
    },
    {
      "cell_type": "code",
      "source": [
        "plt.hist(fabrica1,bins=10,alpha=0.2,color='b',edgecolor=\"black\")\n",
        "plt.axvline(media1,color='b',linestyle='dashed',linewidth=2,label='Media')\n",
        "plt.axvline(mediana1,color='r',linestyle='dashed',linewidth=2,label='Mediana')\n",
        "plt.axvline(moda1,color='y',linestyle='dashed',linewidth=2,label='Moda')\n",
        "plt.xlabel('valor')\n",
        "plt.ylabel('frecuencia')\n",
        "plt.title(\"PRODUCCION DIARIA DE LA FABRICA 1\")\n",
        "plt.legend()\n",
        "plt.show()"
      ],
      "metadata": {
        "colab": {
          "base_uri": "https://localhost:8080/",
          "height": 472
        },
        "id": "vEiWexhqHA1g",
        "outputId": "3e71a852-1b94-402f-a985-29730191087b"
      },
      "execution_count": 25,
      "outputs": [
        {
          "output_type": "display_data",
          "data": {
            "text/plain": [
              "<Figure size 640x480 with 1 Axes>"
            ],
            "image/png": "[encoded data removed]"
          },
          "metadata": {}
        }
      ]
    },
    {
      "cell_type": "code",
      "source": [
        "plt.hist(fabrica2,bins=10,alpha=0.2,color='b',edgecolor=\"black\")\n",
        "plt.axvline(media2,color='b',linestyle='dashed',linewidth=2,label='Media')\n",
        "plt.axvline(mediana2,color='r',linestyle='dashed',linewidth=2,label='Mediana')\n",
        "plt.axvline(moda2,color='y',linestyle='dashed',linewidth=2,label='Moda')\n",
        "plt.xlabel('valor')\n",
        "plt.ylabel('frecuencia')\n",
        "plt.title(\"PRODUCCION DIARIA DE LA FABRICA 2\")\n",
        "plt.legend()\n",
        "plt.show()"
      ],
      "metadata": {
        "id": "yc4Ba_TCKHmU",
        "outputId": "fbc7ad82-cafb-4928-ca03-a9d6e73b4694",
        "colab": {
          "base_uri": "https://localhost:8080/",
          "height": 472
        }
      },
      "execution_count": 27,
      "outputs": [
        {
          "output_type": "display_data",
          "data": {
            "text/plain": [
              "<Figure size 640x480 with 1 Axes>"
            ],
            "image/png": "[encoded data removed]"
          },
          "metadata": {}
        }
      ]
    }
  ]
}