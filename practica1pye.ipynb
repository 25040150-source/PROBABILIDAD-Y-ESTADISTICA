{
  "nbformat": 4,
  "nbformat_minor": 0,
  "metadata": {
    "colab": {
      "provenance": [],
      "authorship_tag": "ABX9TyMeVEWmm6DawRnRzF7aFF7l",
      "include_colab_link": true
    },
    "kernelspec": {
      "name": "python3",
      "display_name": "Python 3"
    },
    "language_info": {
      "name": "python"
    }
  },
  "cells": [
    {
      "cell_type": "markdown",
      "metadata": {
        "id": "view-in-github",
        "colab_type": "text"
      },
      "source": [
        "<a href=\"https://colab.research.google.com/github/25040150-source/PROBABILIDAD-Y-ESTADISTICA/blob/main/practica1pye.ipynb\" target=\"_parent\"><img src=\"https://colab.research.google.com/assets/colab-badge.svg\" alt=\"Open In Colab\"/></a>"
      ]
    },
    {
      "cell_type": "code",
      "execution_count": 5,
      "metadata": {
        "id": "Ljxl0Lzr19yS"
      },
      "outputs": [],
      "source": [
        "from statistics import*"
      ]
    },
    {
      "cell_type": "code",
      "source": [
        "#lista de calificaciones del grupo a de probabilidad y estadistica\n",
        "gpo_a=[70,70,65,90,100,95,45,80,73,20,100,96]\n",
        "print(gpo_a)\n"
      ],
      "metadata": {
        "colab": {
          "base_uri": "https://localhost:8080/"
        },
        "id": "gyxO_GHF2vK_",
        "outputId": "0e876f16-c5c1-4f1b-ed81-ad871324a453"
      },
      "execution_count": 28,
      "outputs": [
        {
          "output_type": "stream",
          "name": "stdout",
          "text": [
            "[70, 70, 65, 90, 100, 95, 45, 80, 73, 20, 100, 96]\n"
          ]
        }
      ]
    },
    {
      "cell_type": "code",
      "source": [
        "#la funcion type nos devuelve el tipo de dato de la variable\n",
        "type(gpo_a)"
      ],
      "metadata": {
        "colab": {
          "base_uri": "https://localhost:8080/"
        },
        "id": "GOtNJUYj3bUu",
        "outputId": "2b3d1aad-fc7b-43cd-bf61-d0f09886e021"
      },
      "execution_count": 9,
      "outputs": [
        {
          "output_type": "execute_result",
          "data": {
            "text/plain": [
              "tuple"
            ]
          },
          "metadata": {},
          "execution_count": 9
        }
      ]
    },
    {
      "cell_type": "code",
      "source": [
        "#sacar la media de las calificaciones\n",
        "promedio=sum(gpo_a)/len(gpo_a)\n",
        "print(promedio)"
      ],
      "metadata": {
        "colab": {
          "base_uri": "https://localhost:8080/"
        },
        "id": "eXRt-xO44E7q",
        "outputId": "16d7a600-459f-46b0-b8bf-3ac9d48556a5"
      },
      "execution_count": 10,
      "outputs": [
        {
          "output_type": "stream",
          "name": "stdout",
          "text": [
            "75.33333333333333\n"
          ]
        }
      ]
    },
    {
      "cell_type": "code",
      "source": [
        "#utilizar la funcion mean que esta en la libreria statistics\n",
        "promedio2=mean(gpo_a)\n",
        "print(promedio2)"
      ],
      "metadata": {
        "colab": {
          "base_uri": "https://localhost:8080/"
        },
        "id": "FAFhbpAF4gFt",
        "outputId": "182cf29f-0ea8-4c6f-af4b-0f3733823a93"
      },
      "execution_count": 11,
      "outputs": [
        {
          "output_type": "stream",
          "name": "stdout",
          "text": [
            "75.33333333333333\n"
          ]
        }
      ]
    },
    {
      "cell_type": "code",
      "source": [
        "#determinar el valor de la mediana con la funcon median\n",
        "mediana=median(gpo_a)\n",
        "print(mediana)"
      ],
      "metadata": {
        "colab": {
          "base_uri": "https://localhost:8080/"
        },
        "id": "cBZz-g6b40s5",
        "outputId": "7da8e2c9-3438-4bb9-b11e-7a5be3978dfa"
      },
      "execution_count": 13,
      "outputs": [
        {
          "output_type": "stream",
          "name": "stdout",
          "text": [
            "76.5\n"
          ]
        }
      ]
    },
    {
      "cell_type": "code",
      "source": [
        "#determinar el valor de la moda con la funcion mode\n",
        "moda=mode(gpo_a)\n",
        "print(moda)"
      ],
      "metadata": {
        "colab": {
          "base_uri": "https://localhost:8080/"
        },
        "id": "zeMoq_8M5bsU",
        "outputId": "45b20819-bb56-4bf4-9fe8-e12af252531b"
      },
      "execution_count": 14,
      "outputs": [
        {
          "output_type": "stream",
          "name": "stdout",
          "text": [
            "70\n"
          ]
        }
      ]
    },
    {
      "cell_type": "code",
      "source": [
        "#en caso de que exista mas de una moda, se puede\n",
        "#utilizar la funcion multimode\n",
        "moda2=multimode(gpo_a)\n",
        "print(moda2)"
      ],
      "metadata": {
        "colab": {
          "base_uri": "https://localhost:8080/"
        },
        "id": "GKloMLcL5o7v",
        "outputId": "28d6892d-35b6-43f2-be3d-d494f2ce0850"
      },
      "execution_count": 15,
      "outputs": [
        {
          "output_type": "stream",
          "name": "stdout",
          "text": [
            "[70, 100]\n"
          ]
        }
      ]
    },
    {
      "cell_type": "code",
      "source": [
        "#definimos una variable llamda tiempos100mts de tipo lista,que contiene\n",
        "#tiempos que tardaron los 10 alumnos para correr 100 metros\n",
        "tiempos100mts=[10,17.20,20,6.9,13.27,22.15,18.71,19.15,15.10,17.20]\n"
      ],
      "metadata": {
        "id": "1BF3MDtC6JWT"
      },
      "execution_count": 29,
      "outputs": []
    },
    {
      "cell_type": "code",
      "source": [
        "#usamos lafuncion mean para determinar el tiempo promedio\n",
        "print(\"el tiempo promedio de los corredores es\",mean(tiempos100mts))\n"
      ],
      "metadata": {
        "colab": {
          "base_uri": "https://localhost:8080/"
        },
        "id": "PuyfqRG3665X",
        "outputId": "4eba7b94-6c46-4dc8-9307-b67277cf2bf2"
      },
      "execution_count": 19,
      "outputs": [
        {
          "output_type": "stream",
          "name": "stdout",
          "text": [
            "el tiempo promedio de los corredores es 15.698461538461538\n"
          ]
        }
      ]
    },
    {
      "cell_type": "code",
      "source": [
        "#usamos la funcion median para calcular la mediana\n",
        "mediana=median(tiempos100mts)\n",
        "print(\"la mediana de los tiempos de los corredores es\",mediana)"
      ],
      "metadata": {
        "colab": {
          "base_uri": "https://localhost:8080/"
        },
        "id": "Q_knZN0C7dn4",
        "outputId": "839718ee-7d2d-45d2-91bd-d84021b9f0b7"
      },
      "execution_count": 21,
      "outputs": [
        {
          "output_type": "stream",
          "name": "stdout",
          "text": [
            "la mediana de los tiempos de los corredores es 17.2\n"
          ]
        }
      ]
    },
    {
      "cell_type": "code",
      "source": [
        "#definir variable para sacar la moda\n",
        "moda=mode(tiempos100mts)\n",
        "print(\"la moda de los tiempos de los corredores es\",moda)"
      ],
      "metadata": {
        "colab": {
          "base_uri": "https://localhost:8080/"
        },
        "id": "Dafw05DT7z3X",
        "outputId": "bf44a118-6ded-4426-d5ce-36e26d39d768"
      },
      "execution_count": 30,
      "outputs": [
        {
          "output_type": "stream",
          "name": "stdout",
          "text": [
            "la moda de los tiempos de los corredores es 17.2\n"
          ]
        }
      ]
    },
    {
      "cell_type": "code",
      "source": [
        "#definir variable para sacar la moda\n",
        "multimoda=multimode(tiempos100mts)\n",
        "print(\"la multimoda de los tiempos de los corredores es\",multimoda)"
      ],
      "metadata": {
        "colab": {
          "base_uri": "https://localhost:8080/"
        },
        "id": "HBw3urjd8UIx",
        "outputId": "c8e622b5-1be8-425d-f91e-375babcdec2b"
      },
      "execution_count": 24,
      "outputs": [
        {
          "output_type": "stream",
          "name": "stdout",
          "text": [
            "la multimoda de los tiempos de los corredores es [10, 17.2]\n"
          ]
        }
      ]
    },
    {
      "cell_type": "code",
      "source": [
        "#libreria para generar numeros aleatorios\n",
        "import random"
      ],
      "metadata": {
        "id": "gAIXsmnX8t1r"
      },
      "execution_count": 25,
      "outputs": []
    },
    {
      "cell_type": "code",
      "source": [
        "fabrica1=[]\n",
        "for i in range(100):\n",
        "  numero_aleatorio=round(random.uniform(10,100),2)\n",
        "  fabrica1.append(numero_aleatorio)\n",
        "print(fabrica1)"
      ],
      "metadata": {
        "colab": {
          "base_uri": "https://localhost:8080/"
        },
        "id": "UllroRiT9OTg",
        "outputId": "d7929748-bb32-487e-91c9-c808eed5b92c"
      },
      "execution_count": 27,
      "outputs": [
        {
          "output_type": "stream",
          "name": "stdout",
          "text": [
            "[54.74, 82.66, 59.62, 43.86, 52.6, 15.22, 62.58, 50.74, 51.41, 82.86, 25.2, 97.97, 88.8, 34.31, 16.3, 94.46, 35.66, 55.77, 47.82, 14.49, 62.3, 21.61, 50.75, 94.8, 87.99, 57.2, 31.21, 30.52, 98.16, 80.15, 28.0, 21.39, 47.22, 28.83, 69.95, 25.55, 70.21, 12.99, 33.83, 63.75, 51.59, 13.17, 94.04, 57.49, 96.71, 95.07, 76.52, 69.64, 92.04, 72.13, 23.0, 18.2, 16.74, 77.11, 23.29, 56.6, 68.79, 91.99, 62.11, 24.78, 58.03, 47.21, 90.91, 33.78, 14.41, 62.69, 25.48, 85.37, 90.01, 58.43, 81.51, 76.16, 95.59, 90.75, 70.63, 33.39, 38.06, 79.57, 20.18, 93.86, 84.27, 52.23, 60.96, 19.01, 79.54, 40.25, 80.41, 95.42, 27.95, 14.82, 92.35, 55.16, 36.96, 16.59, 10.98, 24.05, 44.4, 52.57, 29.55, 55.0]\n"
          ]
        }
      ]
    }
  ]
}