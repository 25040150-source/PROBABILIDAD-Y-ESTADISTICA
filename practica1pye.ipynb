{
  "nbformat": 4,
  "nbformat_minor": 0,
  "metadata": {
    "colab": {
      "provenance": [],
      "authorship_tag": "ABX9TyMmiueS65XGLoH1M3dFCA2q",
      "include_colab_link": true
    },
    "kernelspec": {
      "name": "python3",
      "display_name": "Python 3"
    },
    "language_info": {
      "name": "python"
    }
  },
  "cells": [
    {
      "cell_type": "markdown",
      "metadata": {
        "id": "view-in-github",
        "colab_type": "text"
      },
      "source": [
        "<a href=\"https://colab.research.google.com/github/25040150-source/PROBABILIDAD-Y-ESTADISTICA/blob/main/practica1pye.ipynb\" target=\"_parent\"><img src=\"https://colab.research.google.com/assets/colab-badge.svg\" alt=\"Open In Colab\"/></a>"
      ]
    },
    {
      "cell_type": "code",
      "execution_count": 22,
      "metadata": {
        "id": "Ljxl0Lzr19yS"
      },
      "outputs": [],
      "source": [
        "from statistics import*"
      ]
    },
    {
      "cell_type": "code",
      "source": [
        "#lista de calificaciones del grupo a de probabilidad y estadistica\n",
        "gpo_a=[70,70,65,90,100,95,45,80,73,20,100,96]\n",
        "print(gpo_a)\n"
      ],
      "metadata": {
        "colab": {
          "base_uri": "https://localhost:8080/"
        },
        "id": "gyxO_GHF2vK_",
        "outputId": "0e876f16-c5c1-4f1b-ed81-ad871324a453"
      },
      "execution_count": null,
      "outputs": [
        {
          "output_type": "stream",
          "name": "stdout",
          "text": [
            "[70, 70, 65, 90, 100, 95, 45, 80, 73, 20, 100, 96]\n"
          ]
        }
      ]
    },
    {
      "cell_type": "code",
      "source": [
        "#la funcion type nos devuelve el tipo de dato de la variable\n",
        "type(gpo_a)"
      ],
      "metadata": {
        "colab": {
          "base_uri": "https://localhost:8080/"
        },
        "id": "GOtNJUYj3bUu",
        "outputId": "2b3d1aad-fc7b-43cd-bf61-d0f09886e021"
      },
      "execution_count": null,
      "outputs": [
        {
          "output_type": "execute_result",
          "data": {
            "text/plain": [
              "tuple"
            ]
          },
          "metadata": {},
          "execution_count": 9
        }
      ]
    },
    {
      "cell_type": "code",
      "source": [
        "#sacar la media de las calificaciones\n",
        "promedio=sum(gpo_a)/len(gpo_a)\n",
        "print(promedio)"
      ],
      "metadata": {
        "colab": {
          "base_uri": "https://localhost:8080/"
        },
        "id": "eXRt-xO44E7q",
        "outputId": "16d7a600-459f-46b0-b8bf-3ac9d48556a5"
      },
      "execution_count": null,
      "outputs": [
        {
          "output_type": "stream",
          "name": "stdout",
          "text": [
            "75.33333333333333\n"
          ]
        }
      ]
    },
    {
      "cell_type": "code",
      "source": [
        "#utilizar la funcion mean que esta en la libreria statistics\n",
        "promedio2=mean(gpo_a)\n",
        "print(promedio2)"
      ],
      "metadata": {
        "colab": {
          "base_uri": "https://localhost:8080/"
        },
        "id": "FAFhbpAF4gFt",
        "outputId": "182cf29f-0ea8-4c6f-af4b-0f3733823a93"
      },
      "execution_count": null,
      "outputs": [
        {
          "output_type": "stream",
          "name": "stdout",
          "text": [
            "75.33333333333333\n"
          ]
        }
      ]
    },
    {
      "cell_type": "code",
      "source": [
        "#determinar el valor de la mediana con la funcon median\n",
        "mediana=median(gpo_a)\n",
        "print(mediana)"
      ],
      "metadata": {
        "colab": {
          "base_uri": "https://localhost:8080/"
        },
        "id": "cBZz-g6b40s5",
        "outputId": "7da8e2c9-3438-4bb9-b11e-7a5be3978dfa"
      },
      "execution_count": null,
      "outputs": [
        {
          "output_type": "stream",
          "name": "stdout",
          "text": [
            "76.5\n"
          ]
        }
      ]
    },
    {
      "cell_type": "code",
      "source": [
        "#determinar el valor de la moda con la funcion mode\n",
        "moda=mode(gpo_a)\n",
        "print(moda)"
      ],
      "metadata": {
        "colab": {
          "base_uri": "https://localhost:8080/"
        },
        "id": "zeMoq_8M5bsU",
        "outputId": "45b20819-bb56-4bf4-9fe8-e12af252531b"
      },
      "execution_count": null,
      "outputs": [
        {
          "output_type": "stream",
          "name": "stdout",
          "text": [
            "70\n"
          ]
        }
      ]
    },
    {
      "cell_type": "code",
      "source": [
        "#en caso de que exista mas de una moda, se puede\n",
        "#utilizar la funcion multimode\n",
        "moda2=multimode(gpo_a)\n",
        "print(moda2)"
      ],
      "metadata": {
        "colab": {
          "base_uri": "https://localhost:8080/"
        },
        "id": "GKloMLcL5o7v",
        "outputId": "28d6892d-35b6-43f2-be3d-d494f2ce0850"
      },
      "execution_count": null,
      "outputs": [
        {
          "output_type": "stream",
          "name": "stdout",
          "text": [
            "[70, 100]\n"
          ]
        }
      ]
    },
    {
      "cell_type": "code",
      "source": [
        "#definimos una variable llamda tiempos100mts de tipo lista,que contiene\n",
        "#tiempos que tardaron los 10 alumnos para correr 100 metros\n",
        "tiempos100mts=[10,17.20,20,6.9,13.27,22.15,18.71,19.15,15.10,17.20]\n"
      ],
      "metadata": {
        "id": "1BF3MDtC6JWT"
      },
      "execution_count": null,
      "outputs": []
    },
    {
      "cell_type": "code",
      "source": [
        "#usamos lafuncion mean para determinar el tiempo promedio\n",
        "print(\"el tiempo promedio de los corredores es\",mean(tiempos100mts))\n"
      ],
      "metadata": {
        "colab": {
          "base_uri": "https://localhost:8080/"
        },
        "id": "PuyfqRG3665X",
        "outputId": "4eba7b94-6c46-4dc8-9307-b67277cf2bf2"
      },
      "execution_count": null,
      "outputs": [
        {
          "output_type": "stream",
          "name": "stdout",
          "text": [
            "el tiempo promedio de los corredores es 15.698461538461538\n"
          ]
        }
      ]
    },
    {
      "cell_type": "code",
      "source": [
        "#usamos la funcion median para calcular la mediana\n",
        "mediana=median(tiempos100mts)\n",
        "print(\"la mediana de los tiempos de los corredores es\",mediana)"
      ],
      "metadata": {
        "colab": {
          "base_uri": "https://localhost:8080/"
        },
        "id": "Q_knZN0C7dn4",
        "outputId": "839718ee-7d2d-45d2-91bd-d84021b9f0b7"
      },
      "execution_count": null,
      "outputs": [
        {
          "output_type": "stream",
          "name": "stdout",
          "text": [
            "la mediana de los tiempos de los corredores es 17.2\n"
          ]
        }
      ]
    },
    {
      "cell_type": "code",
      "source": [
        "#definir variable para sacar la moda\n",
        "moda=mode(tiempos100mts)\n",
        "print(\"la moda de los tiempos de los corredores es\",moda)"
      ],
      "metadata": {
        "colab": {
          "base_uri": "https://localhost:8080/"
        },
        "id": "Dafw05DT7z3X",
        "outputId": "bf44a118-6ded-4426-d5ce-36e26d39d768"
      },
      "execution_count": null,
      "outputs": [
        {
          "output_type": "stream",
          "name": "stdout",
          "text": [
            "la moda de los tiempos de los corredores es 17.2\n"
          ]
        }
      ]
    },
    {
      "cell_type": "code",
      "source": [
        "#definir variable para sacar la moda\n",
        "multimoda=multimode(tiempos100mts)\n",
        "print(\"la multimoda de los tiempos de los corredores es\",multimoda)"
      ],
      "metadata": {
        "colab": {
          "base_uri": "https://localhost:8080/"
        },
        "id": "HBw3urjd8UIx",
        "outputId": "c8e622b5-1be8-425d-f91e-375babcdec2b"
      },
      "execution_count": null,
      "outputs": [
        {
          "output_type": "stream",
          "name": "stdout",
          "text": [
            "la multimoda de los tiempos de los corredores es [10, 17.2]\n"
          ]
        }
      ]
    },
    {
      "cell_type": "code",
      "source": [
        "#libreria para generar numeros aleatorios\n",
        "import random"
      ],
      "metadata": {
        "id": "gAIXsmnX8t1r"
      },
      "execution_count": 6,
      "outputs": []
    },
    {
      "cell_type": "code",
      "source": [
        "fabrica1=[]\n",
        "for i in range(100):\n",
        "  numero_aleatorio=round(random.uniform(50,100),2)\n",
        "  fabrica1.append(numero_aleatorio)\n",
        "print(fabrica1)"
      ],
      "metadata": {
        "colab": {
          "base_uri": "https://localhost:8080/"
        },
        "id": "UllroRiT9OTg",
        "outputId": "b40beec0-4318-4416-993c-0cecbcb2a7fd"
      },
      "execution_count": 7,
      "outputs": [
        {
          "output_type": "stream",
          "name": "stdout",
          "text": [
            "[65.35, 97.88, 55.49, 89.04, 57.32, 81.71, 53.14, 64.88, 51.03, 95.92, 96.36, 50.17, 61.05, 90.43, 52.34, 60.72, 62.16, 80.78, 52.98, 72.87, 85.21, 66.62, 64.93, 59.78, 99.58, 73.89, 94.04, 68.88, 57.07, 64.19, 75.61, 62.22, 53.9, 58.34, 94.49, 98.28, 80.17, 87.44, 73.79, 61.76, 61.51, 53.54, 83.98, 71.81, 81.0, 50.24, 70.42, 92.71, 72.65, 56.6, 50.06, 79.33, 91.22, 65.63, 66.12, 61.4, 64.68, 96.2, 56.79, 73.36, 96.34, 67.67, 64.92, 98.0, 50.04, 56.86, 55.19, 54.39, 81.5, 56.87, 56.68, 88.45, 78.5, 68.48, 57.95, 66.08, 59.06, 90.46, 60.19, 53.09, 95.06, 91.29, 54.95, 66.26, 71.36, 96.21, 93.2, 97.96, 52.64, 51.36, 87.16, 86.81, 70.01, 66.83, 99.27, 94.17, 92.53, 67.42, 64.97, 53.37]\n"
          ]
        }
      ]
    },
    {
      "cell_type": "code",
      "source": [
        "fabrica2=[]\n",
        "for i in range(100):\n",
        "  numero_aleatorio2=round(random.uniform(40,93),2)\n",
        "  fabrica2.append(numero_aleatorio2)\n",
        "print(fabrica2)"
      ],
      "metadata": {
        "colab": {
          "base_uri": "https://localhost:8080/"
        },
        "id": "Sy3aURot_6Kn",
        "outputId": "e311d951-9514-421f-85fb-370afa87b010"
      },
      "execution_count": 10,
      "outputs": [
        {
          "output_type": "stream",
          "name": "stdout",
          "text": [
            "[58.87, 88.28, 91.04, 42.52, 72.71, 85.02, 79.55, 69.37, 79.26, 83.78, 60.63, 92.65, 80.8, 51.77, 46.35, 88.57, 52.22, 43.78, 61.31, 53.31, 70.99, 46.49, 45.38, 43.85, 82.42, 64.61, 69.93, 88.0, 91.93, 40.67, 86.73, 59.53, 44.02, 77.84, 57.16, 67.89, 59.57, 67.94, 42.93, 63.47, 68.28, 67.84, 78.0, 62.56, 43.46, 74.34, 57.94, 75.65, 62.54, 53.6, 53.6, 79.78, 66.05, 72.78, 60.14, 52.85, 88.0, 63.46, 65.34, 75.26, 87.65, 84.33, 88.14, 66.55, 66.17, 58.32, 77.97, 55.6, 55.73, 78.27, 67.1, 87.95, 71.9, 41.06, 77.84, 79.25, 77.63, 73.67, 40.91, 92.04, 42.67, 58.33, 45.7, 62.2, 79.64, 44.03, 43.79, 65.67, 78.24, 44.84, 87.34, 84.31, 89.1, 75.14, 91.64, 91.15, 76.63, 79.81, 79.01, 79.9]\n"
          ]
        }
      ]
    },
    {
      "cell_type": "code",
      "source": [
        "#importacion de libreria\n",
        "import matplotlib.pyplot as plt\n",
        "plt.hist(fabrica1)\n",
        "plt.title(\"PRODUCCION DIARIA DE LA FABRICA 1\")\n"
      ],
      "metadata": {
        "colab": {
          "base_uri": "https://localhost:8080/",
          "height": 470
        },
        "id": "vhkMDK9vAi43",
        "outputId": "68e9bbe4-1d3e-4e42-d9e6-abc77572645c"
      },
      "execution_count": 24,
      "outputs": [
        {
          "output_type": "execute_result",
          "data": {
            "text/plain": [
              "Text(0.5, 1.0, 'PRODUCCION DIARIA DE LA FABRICA 1')"
            ]
          },
          "metadata": {},
          "execution_count": 24
        },
        {
          "output_type": "display_data",
          "data": {
            "text/plain": [
              "<Figure size 640x480 with 1 Axes>"
            ],
            "image/png": "[encoded data removed]"
          },
          "metadata": {}
        }
      ]
    },
    {
      "cell_type": "code",
      "source": [
        "plt.hist(fabrica1)\n",
        "plt.title(\"PRODUCCION DIARIA DE LA FABRICA 2\")"
      ],
      "metadata": {
        "colab": {
          "base_uri": "https://localhost:8080/",
          "height": 470
        },
        "id": "ZCZLHoMYCw5V",
        "outputId": "30f0f58c-b077-433d-e2d9-271b3582a818"
      },
      "execution_count": 14,
      "outputs": [
        {
          "output_type": "execute_result",
          "data": {
            "text/plain": [
              "Text(0.5, 1.0, 'PRODUCCION DIARIA DE LA FABRICA 2')"
            ]
          },
          "metadata": {},
          "execution_count": 14
        },
        {
          "output_type": "display_data",
          "data": {
            "text/plain": [
              "<Figure size 640x480 with 1 Axes>"
            ],
            "image/png": "[encoded data removed]"
          },
          "metadata": {}
        }
      ]
    },
    {
      "cell_type": "code",
      "source": [
        "media1= mean(fabrica1)\n",
        "mediana1= median(fabrica1)\n",
        "moda1= mode(fabrica1)\n",
        "print(\"VALORES DE LA FABRICA 1\")\n",
        "print(\"la media es\",media1)\n",
        "print(\"la mediana es\",mediana1)\n",
        "print(\"la moda es\",moda1)"
      ],
      "metadata": {
        "colab": {
          "base_uri": "https://localhost:8080/"
        },
        "id": "NueIvuasDK2t",
        "outputId": "0a9ae68a-beeb-4a30-9ffd-ab51ded0ef2d"
      },
      "execution_count": 18,
      "outputs": [
        {
          "output_type": "stream",
          "name": "stdout",
          "text": [
            "VALORES DE LA FABRICA 1\n",
            "la media es 71.8461\n",
            "la mediana es 67.125\n",
            "la moda es 65.35\n"
          ]
        }
      ]
    },
    {
      "cell_type": "code",
      "source": [
        "media2= mean(fabrica2)\n",
        "mediana2= median(fabrica2)\n",
        "moda2= mode(fabrica2)\n",
        "print(\"VALORES DE LA FABRICA 2\")\n",
        "print(\"la media es\",media2)\n",
        "print(\"la mediana es\",mediana2)\n",
        "print(\"la moda es\",moda2)"
      ],
      "metadata": {
        "colab": {
          "base_uri": "https://localhost:8080/"
        },
        "id": "aYEDPLlWEN8r",
        "outputId": "05d43f7c-8c2f-499b-af02-efec7ff56203"
      },
      "execution_count": 19,
      "outputs": [
        {
          "output_type": "stream",
          "name": "stdout",
          "text": [
            "VALORES DE LA FABRICA 2\n",
            "la media es 68.0183\n",
            "la mediana es 68.11\n",
            "la moda es 88.0\n"
          ]
        }
      ]
    },
    {
      "cell_type": "code",
      "source": [
        "#generar 2 suplot de 1 renglonnpor dos columnas para desplegar los dos histogramas,\n",
        "#una al lado de la otra\n",
        "fig,(ax1, ax2) =plt.subplots(nrows=1,ncols=2,figsize=(10,5))\n",
        "ax1.hist(fabrica1)\n",
        "ax2.hist(fabrica2)\n",
        "plt.show()\n"
      ],
      "metadata": {
        "colab": {
          "base_uri": "https://localhost:8080/",
          "height": 445
        },
        "id": "gMXaQPcaFLZZ",
        "outputId": "ad843bd9-2b74-4366-eeb2-2f5cb65785c5"
      },
      "execution_count": 20,
      "outputs": [
        {
          "output_type": "display_data",
          "data": {
            "text/plain": [
              "<Figure size 1000x500 with 2 Axes>"
            ],
            "image/png": "[encoded data removed]"
          },
          "metadata": {}
        }
      ]
    },
    {
      "cell_type": "code",
      "source": [
        "plt.hist(fabrica1,bins=10,alpha=0.2,color='b',edgecolor=\"black\")\n",
        "plt.avxline(media1,color='b',linestyle='dached',linewidth=2,label='Media')\n",
        "plt.avxline(mediana1,color='r',linestyle='dached',linewidth=2,label='Mediana')\n",
        "plt.avxline(moda1,color='y',linestyle='dached',linewidth=2,label='Moda')\n",
        "plt.xlabel('valor')\n",
        "plt.ylabel('frecuencia')\n",
        "plt.title(\"PRODUCCION DIARIA DE LA FABRICA 1\")\n",
        "plt.legend()\n",
        "plt.show()"
      ],
      "metadata": {
        "colab": {
          "base_uri": "https://localhost:8080/",
          "height": 633
        },
        "id": "vEiWexhqHA1g",
        "outputId": "95913375-f0ca-496b-9244-cb8670ddf787"
      },
      "execution_count": 25,
      "outputs": [
        {
          "output_type": "error",
          "ename": "AttributeError",
          "evalue": "module 'matplotlib.pyplot' has no attribute 'avxline'",
          "traceback": [
            "\u001b[0;31m---------------------------------------------------------------------------\u001b[0m",
            "\u001b[0;31mAttributeError\u001b[0m                            Traceback (most recent call last)",
            "\u001b[0;32m/tmp/ipython-input-4164362117.py\u001b[0m in \u001b[0;36m<cell line: 0>\u001b[0;34m()\u001b[0m\n\u001b[1;32m      1\u001b[0m \u001b[0mplt\u001b[0m\u001b[0;34m.\u001b[0m\u001b[0mhist\u001b[0m\u001b[0;34m(\u001b[0m\u001b[0mfabrica1\u001b[0m\u001b[0;34m,\u001b[0m\u001b[0mbins\u001b[0m\u001b[0;34m=\u001b[0m\u001b[0;36m10\u001b[0m\u001b[0;34m,\u001b[0m\u001b[0malpha\u001b[0m\u001b[0;34m=\u001b[0m\u001b[0;36m0.2\u001b[0m\u001b[0;34m,\u001b[0m\u001b[0mcolor\u001b[0m\u001b[0;34m=\u001b[0m\u001b[0;34m'b'\u001b[0m\u001b[0;34m,\u001b[0m\u001b[0medgecolor\u001b[0m\u001b[0;34m=\u001b[0m\u001b[0;34m\"black\"\u001b[0m\u001b[0;34m)\u001b[0m\u001b[0;34m\u001b[0m\u001b[0;34m\u001b[0m\u001b[0m\n\u001b[0;32m----> 2\u001b[0;31m \u001b[0mplt\u001b[0m\u001b[0;34m.\u001b[0m\u001b[0mavxline\u001b[0m\u001b[0;34m(\u001b[0m\u001b[0mmedia1\u001b[0m\u001b[0;34m,\u001b[0m\u001b[0mcolor\u001b[0m\u001b[0;34m=\u001b[0m\u001b[0;34m'b'\u001b[0m\u001b[0;34m,\u001b[0m\u001b[0mlinestyle\u001b[0m\u001b[0;34m=\u001b[0m\u001b[0;34m'dached'\u001b[0m\u001b[0;34m,\u001b[0m\u001b[0mlinewidth\u001b[0m\u001b[0;34m=\u001b[0m\u001b[0;36m2\u001b[0m\u001b[0;34m,\u001b[0m\u001b[0mlabel\u001b[0m\u001b[0;34m=\u001b[0m\u001b[0;34m'Media'\u001b[0m\u001b[0;34m)\u001b[0m\u001b[0;34m\u001b[0m\u001b[0;34m\u001b[0m\u001b[0m\n\u001b[0m\u001b[1;32m      3\u001b[0m \u001b[0mplt\u001b[0m\u001b[0;34m.\u001b[0m\u001b[0mavxline\u001b[0m\u001b[0;34m(\u001b[0m\u001b[0mmediana1\u001b[0m\u001b[0;34m,\u001b[0m\u001b[0mcolor\u001b[0m\u001b[0;34m=\u001b[0m\u001b[0;34m'r'\u001b[0m\u001b[0;34m,\u001b[0m\u001b[0mlinestyle\u001b[0m\u001b[0;34m=\u001b[0m\u001b[0;34m'dached'\u001b[0m\u001b[0;34m,\u001b[0m\u001b[0mlinewidth\u001b[0m\u001b[0;34m=\u001b[0m\u001b[0;36m2\u001b[0m\u001b[0;34m,\u001b[0m\u001b[0mlabel\u001b[0m\u001b[0;34m=\u001b[0m\u001b[0;34m'Mediana'\u001b[0m\u001b[0;34m)\u001b[0m\u001b[0;34m\u001b[0m\u001b[0;34m\u001b[0m\u001b[0m\n\u001b[1;32m      4\u001b[0m \u001b[0mplt\u001b[0m\u001b[0;34m.\u001b[0m\u001b[0mavxline\u001b[0m\u001b[0;34m(\u001b[0m\u001b[0mmoda1\u001b[0m\u001b[0;34m,\u001b[0m\u001b[0mcolor\u001b[0m\u001b[0;34m=\u001b[0m\u001b[0;34m'y'\u001b[0m\u001b[0;34m,\u001b[0m\u001b[0mlinestyle\u001b[0m\u001b[0;34m=\u001b[0m\u001b[0;34m'dached'\u001b[0m\u001b[0;34m,\u001b[0m\u001b[0mlinewidth\u001b[0m\u001b[0;34m=\u001b[0m\u001b[0;36m2\u001b[0m\u001b[0;34m,\u001b[0m\u001b[0mlabel\u001b[0m\u001b[0;34m=\u001b[0m\u001b[0;34m'Moda'\u001b[0m\u001b[0;34m)\u001b[0m\u001b[0;34m\u001b[0m\u001b[0;34m\u001b[0m\u001b[0m\n\u001b[1;32m      5\u001b[0m \u001b[0mplt\u001b[0m\u001b[0;34m.\u001b[0m\u001b[0mxlabel\u001b[0m\u001b[0;34m(\u001b[0m\u001b[0;34m'valor'\u001b[0m\u001b[0;34m)\u001b[0m\u001b[0;34m\u001b[0m\u001b[0;34m\u001b[0m\u001b[0m\n",
            "\u001b[0;31mAttributeError\u001b[0m: module 'matplotlib.pyplot' has no attribute 'avxline'"
          ]
        },
        {
          "output_type": "display_data",
          "data": {
            "text/plain": [
              "<Figure size 640x480 with 1 Axes>"
            ],
            "image/png": "[encoded data removed]"
          },
          "metadata": {}
        }
      ]
    },
    {
      "cell_type": "code",
      "source": [
        "plt.hist(fabrica2,bins=10,alpha=0.2,color='b',edgecolor=\"black\")\n",
        "plt.avxline(media2,color='b',linestyle='dached',linewidth=2,label='Media')\n",
        "plt.avxline(mediana2,color='r',linestyle='dached',linewidth=2,label='Mediana')\n",
        "plt.avxline(moda2,color='y',linestyle='dached',linewidth=2,label='Moda')\n",
        "plt.xlabel('valor')\n",
        "plt.ylabel('frecuencia')\n",
        "plt.title(\"PRODUCCION DIARIA DE LA FABRICA 1\")\n",
        "plt.legend()\n",
        "plt.show()"
      ],
      "metadata": {
        "id": "yc4Ba_TCKHmU"
      },
      "execution_count": null,
      "outputs": []
    }
  ]
}