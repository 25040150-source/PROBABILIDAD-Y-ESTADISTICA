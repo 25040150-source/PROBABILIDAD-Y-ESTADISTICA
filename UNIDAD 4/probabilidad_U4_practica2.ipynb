{
  "nbformat": 4,
  "nbformat_minor": 0,
  "metadata": {
    "colab": {
      "provenance": [],
      "authorship_tag": "ABX9TyPwBOwSxLjkQIYTpa+suycJ",
      "include_colab_link": true
    },
    "kernelspec": {
      "name": "python3",
      "display_name": "Python 3"
    },
    "language_info": {
      "name": "python"
    }
  },
  "cells": [
    {
      "cell_type": "markdown",
      "metadata": {
        "id": "view-in-github",
        "colab_type": "text"
      },
      "source": [
        "<a href=\"https://colab.research.google.com/github/25040150-source/PROBABILIDAD-Y-ESTADISTICA/blob/main/UNIDAD%204/probabilidad_U4_practica2.ipynb\" target=\"_parent\"><img src=\"https://colab.research.google.com/assets/colab-badge.svg\" alt=\"Open In Colab\"/></a>"
      ]
    },
    {
      "cell_type": "markdown",
      "source": [
        "#Probabilidad y estadistica 2Y\n",
        "##Unidad 3.- Distribuciones de probabilidad\n",
        "###practica 1 distribución BINOMIAL\n",
        "###Maestro: José Gabriel Rodriguez Rivas\n",
        "###Alumno: Marcela Pérez Gurrola"
      ],
      "metadata": {
        "id": "6z5DRtqyxxQe"
      }
    },
    {
      "cell_type": "markdown",
      "source": [
        "ejemplo1: La probabilidad de éxito de una vacuna es de 0.83. Calcular la probabilidad de que\n",
        "una vez administrada a 16 pacientes ninguno sufra la enfermedad.\n",
        "\n",
        "• N = número de pacientes a los que se administra la vacuna\n",
        "\n",
        "• A = éxito de la vacuna\n",
        "\n",
        "• p = P(A) = 0.83, por lo tanto, q = 1 - 0.83 q = 0.17\n",
        "\n",
        "• X = número de pacientes\n"
      ],
      "metadata": {
        "id": "x7fyn4CJzeQP"
      }
    },
    {
      "cell_type": "code",
      "execution_count": null,
      "metadata": {
        "colab": {
          "base_uri": "https://localhost:8080/"
        },
        "id": "ZcDmbXHnxpRj",
        "outputId": "4dbc9622-bcd9-40cd-a029-8285d3b1c726"
      },
      "outputs": [
        {
          "output_type": "stream",
          "name": "stdout",
          "text": [
            "la probabilidad de que ningun paciente sufra la enfermedad es:  0.0507282029895386\n"
          ]
        }
      ],
      "source": [
        "from scipy.stats import binom\n",
        "\n",
        "#parametros de la desitribucion binomial\n",
        "prob_exito= 0.83\n",
        "num_pacientes= 16\n",
        "x= 16  #numero de exitos\n",
        "#calcular la probabilidad de que ningun paciente sufra la enfermedad\n",
        "prob_ningun_enfermo= binom.pmf (x,num_pacientes,prob_exito)\n",
        "print(\"la probabilidad de que ningun paciente sufra la enfermedad es: \",prob_ningun_enfermo)"
      ]
    },
    {
      "cell_type": "markdown",
      "source": [
        "ejemplo 2: La probabilidad de éxito de una vacuna es de 0.83. Calcular la probabilidad de que\n",
        "una vez administrada a 16 pacientes TODOS sufra la enfermedad.\n",
        "\n",
        "• N = número de pacientes a los que se administra la vacuna\n",
        "\n",
        "• A = éxito de la vacuna\n",
        "\n",
        "• p = P(A) = 0.83, por lo tanto, q = 1 - 0.83 q = 0.17\n",
        "\n",
        "• X = número de pacientes"
      ],
      "metadata": {
        "id": "YsCbLbchznAR"
      }
    },
    {
      "cell_type": "code",
      "source": [
        "#parametros de la desitribucion binomial\n",
        "prob_exito= 0.83\n",
        "num_pacientes= 16\n",
        "x= 0  #numero de exitos\n",
        "#calcular la probabilidad de que ningun paciente sufra la enfermedad\n",
        "prob_todos_enfermo= binom.pmf (x,num_pacientes,prob_exito)\n",
        "print(\"la probabilidad de que todos los paciente sufran la enfermedad es: \",prob_todos_enfermo)"
      ],
      "metadata": {
        "colab": {
          "base_uri": "https://localhost:8080/"
        },
        "id": "KTBULjhiys6f",
        "outputId": "182e30cd-e7bc-4830-de1c-5f25d628e4cb"
      },
      "execution_count": null,
      "outputs": [
        {
          "output_type": "stream",
          "name": "stdout",
          "text": [
            "la probabilidad de que todos los paciente sufran la enfermedad es:  4.866119187566701e-13\n"
          ]
        }
      ]
    },
    {
      "cell_type": "markdown",
      "source": [
        "ejercicio 2: para una variable aleatoria binomial con n=10 y una probabilidad de 0.10\n",
        "encontrar la probabilidad de la variable aleatoria x=2. Realizar un programa en python que resuelva el problema usando un distribucion de probabilidad binomial.  "
      ],
      "metadata": {
        "id": "RJg3CO6sz35X"
      }
    },
    {
      "cell_type": "code",
      "source": [
        "from scipy.stats import binom\n",
        "#parametrosde la distribucion binomial\n",
        "n= 10\n",
        "p= 0.10\n",
        "x= 2\n",
        "#calcular la probabilidad de la variable aleatoria x=2\n",
        "probabilidad_x_2= binom.pmf(x,n,p)\n",
        "print(\"la probabilidad de la variable aleatoria x=2 es: \",probabilidad_x_2)"
      ],
      "metadata": {
        "id": "UtAoKqTNzw8D",
        "colab": {
          "base_uri": "https://localhost:8080/"
        },
        "outputId": "62de0965-55aa-4b27-fe86-2cadaddf8ccb"
      },
      "execution_count": null,
      "outputs": [
        {
          "output_type": "stream",
          "name": "stdout",
          "text": [
            "la probabilidad de la variable aleatoria x=2 es:  0.19371024450000007\n"
          ]
        }
      ]
    }
  ]
}