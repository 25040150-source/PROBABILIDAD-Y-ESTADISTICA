{
  "nbformat": 4,
  "nbformat_minor": 0,
  "metadata": {
    "colab": {
      "provenance": [],
      "authorship_tag": "ABX9TyPIfIAZ1Nl51kEpRV2AGJUH",
      "include_colab_link": true
    },
    "kernelspec": {
      "name": "python3",
      "display_name": "Python 3"
    },
    "language_info": {
      "name": "python"
    }
  },
  "cells": [
    {
      "cell_type": "markdown",
      "metadata": {
        "id": "view-in-github",
        "colab_type": "text"
      },
      "source": [
        "<a href=\"https://colab.research.google.com/github/25040150-source/PROBABILIDAD-Y-ESTADISTICA/blob/main/UNIDAD%204/probabilidad_U4_ejercicio3.ipynb\" target=\"_parent\"><img src=\"https://colab.research.google.com/assets/colab-badge.svg\" alt=\"Open In Colab\"/></a>"
      ]
    },
    {
      "cell_type": "markdown",
      "source": [
        "#Probabilidad y estadistica 2Y\n",
        "##Unidad 4.- Distribuciones de probabilidad\n",
        "###ejercicios poisson y binomial\n",
        "###Maestro: José Gabriel Rodriguez Rivas\n",
        "###Alumno: Marcela Pérez Gurrola"
      ],
      "metadata": {
        "id": "k598iE7VfAo7"
      }
    },
    {
      "cell_type": "markdown",
      "source": [
        "Tipo de distribución;\n",
        " Binomial, porque:\n",
        "\n",
        "*Hay un número fijo de ensayos (n = 1000 motores).\n",
        "\n",
        "*Cada motor puede resultar defectuoso o no (dos resultados posibles).\n",
        "\n",
        "*La probabilidad de defecto es constante (p = 0.001).\n",
        "\n",
        "*Los motores son independientes entre sí.\n",
        "\n",
        "PROBLEMA 2 - Distribución Binomial\n",
        "\n",
        " Un fabricante de podadoras compra lotes de 1000 motores.\n",
        " La probabilidad de que un motor sea defectuoso es 0.001.\n",
        " Calcular:\n",
        "\n",
        " a) Probabilidad de que ninguno sea defectuoso (x = 0):\n",
        "\n",
        " P(X=0)=0.367695\n",
        "\n",
        "La probabilidad de que ninguno sea defectuoso es aproximadamente 36.77%.\n",
        "\n",
        "\n",
        " b) Probabilidad de que tres sean defectuosos (x = 3)\n",
        "\n",
        " P(X=3)=0.061283\n",
        "\n",
        " La probabilidad de que tres sean defectuosos es aproximadamente 6.13%.\n",
        "\n",
        "\n",
        " c) Probabilidad de que cuatro sean defectuosos (x = 4)\n",
        "\n",
        " P(X=4)=0.015290\n",
        "\n",
        " La probabilidad de que cuatro sean defectuosos es aproximadamente 1.53%."
      ],
      "metadata": {
        "id": "sAW6W0KDfAXU"
      }
    },
    {
      "cell_type": "code",
      "execution_count": 1,
      "metadata": {
        "colab": {
          "base_uri": "https://localhost:8080/",
          "height": 859
        },
        "id": "lw8DyBpje832",
        "outputId": "a940311a-bc1d-451b-e9c2-156a89231e23"
      },
      "outputs": [
        {
          "output_type": "stream",
          "name": "stdout",
          "text": [
            "valores de x\t probabilidades\n",
            "0\t\t0.3676954247709639\n",
            "1\t\t0.36806348825922347\n",
            "2\t\t0.1840317441296114\n",
            "3\t\t0.061282509389840666\n",
            "4\t\t0.015289955420838651\n",
            "5\t\t0.003048807927758811\n",
            "6\t\t0.0005061000814347724\n",
            "7\t\t7.193814971345099e-05\n",
            "8\t\t8.938261094276363e-06\n",
            "9\t\t9.861811817953688e-07\n",
            "10\t\t9.782838349942024e-08\n",
            "\n",
            "Resultados del problema:\n",
            "P(X = 0) = 0.367695\n",
            "P(X = 3) = 0.061283\n",
            "P(X = 4) = 0.015290\n"
          ]
        },
        {
          "output_type": "display_data",
          "data": {
            "text/plain": [
              "<Figure size 800x600 with 1 Axes>"
            ],
            "image/png": "[encoded data removed]"
          },
          "metadata": {}
        }
      ],
      "source": [
        "import numpy as np\n",
        "import matplotlib.pyplot as plt\n",
        "from scipy.stats import binom\n",
        "\n",
        "# Parámetros de la distribución binomial\n",
        "n = 1000\n",
        "p = 0.001\n",
        "\n",
        "# Calculo las probabilidades para cada valor de x de 0 a 10\n",
        "valores_x = np.arange(0, 11)\n",
        "probabilidades_x = [binom.pmf(x, n, p) for x in valores_x]\n",
        "\n",
        "# Imprimo la tabla de valores de x y sus probabilidades\n",
        "print(\"valores de x\\t probabilidades\")\n",
        "for x, prob in zip(valores_x, probabilidades_x):\n",
        "    print(f\"{x}\\t\\t{prob}\")\n",
        "\n",
        "# Calculo probabilidades\n",
        "p0 = binom.pmf(0, n, p)   # P(X = 0)\n",
        "p3 = binom.pmf(3, n, p)   # P(X = 3)\n",
        "p4 = binom.pmf(4, n, p)   # P(X = 4)\n",
        "\n",
        "print(\"\\nResultados del problema:\")\n",
        "print(f\"P(X = 0) = {p0:.6f}\")\n",
        "print(f\"P(X = 3) = {p3:.6f}\")\n",
        "print(f\"P(X = 4) = {p4:.6f}\")\n",
        "\n",
        "# grafico el histograma de la distribucion binomial\n",
        "plt.figure(figsize=(8,6))\n",
        "plt.bar(valores_x, probabilidades_x, color=\"skyblue\")\n",
        "plt.xlabel(\"valores de x\")\n",
        "plt.ylabel(\"probabilidades\")\n",
        "plt.title(\"distribucion binomial\")\n",
        "plt.xticks(valores_x)\n",
        "plt.grid(True)\n",
        "plt.show()\n"
      ]
    }
  ]
}