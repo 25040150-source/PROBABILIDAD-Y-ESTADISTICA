{
  "nbformat": 4,
  "nbformat_minor": 0,
  "metadata": {
    "colab": {
      "provenance": [],
      "authorship_tag": "ABX9TyMN91Go27Bv4C5v3TTYMuOk",
      "include_colab_link": true
    },
    "kernelspec": {
      "name": "python3",
      "display_name": "Python 3"
    },
    "language_info": {
      "name": "python"
    }
  },
  "cells": [
    {
      "cell_type": "markdown",
      "metadata": {
        "id": "view-in-github",
        "colab_type": "text"
      },
      "source": [
        "<a href=\"https://colab.research.google.com/github/25040150-source/PROBABILIDAD-Y-ESTADISTICA/blob/main/UNIDAD%204/probabilidad_U4_ejercicio2.ipynb\" target=\"_parent\"><img src=\"https://colab.research.google.com/assets/colab-badge.svg\" alt=\"Open In Colab\"/></a>"
      ]
    },
    {
      "cell_type": "markdown",
      "source": [
        "#Probabilidad y estadistica 2Y\n",
        "##Unidad 3.- Distribuciones de probabilidad\n",
        "###ejercicios poisson y binomial\n",
        "###Maestro: José Gabriel Rodriguez Rivas\n",
        "###Alumno: Marcela Pérez Gurrola"
      ],
      "metadata": {
        "id": "EuPRovitZnM9"
      }
    },
    {
      "cell_type": "markdown",
      "source": [
        " PROBLEMA 1: Distribución de Poisson\n",
        " ----------------------------------------------------------\n",
        " Tipo de distribución: Poisson Justificación: Se usa porque el número de personas que ingresan a la UCI corresponde a eventos que ocurren al azar e independientemente en un intervalo de tiempo fijo (1 día). En la distribución de Poisson la media (λ) representa el número promedio de eventos por intervalo.\n",
        "\n",
        "\n",
        "  El número de personas ingresadas a una unidad de cuidados intensivos (UCI)\n",
        " en un hospital particular, en un día, tiene una distribución de Poisson\n",
        " con media λ = 5 personas por día.\n",
        "\n",
        "\n"
      ],
      "metadata": {
        "id": "HyB0tOBXhlC4"
      }
    },
    {
      "cell_type": "markdown",
      "source": [
        "a) ¿Cuál es la probabilidad de que el número de personas ingresadas en un día particular sea dos?\n",
        "\n",
        "Usando la fórmula de la distribución de Poisson;\n",
        "La probabilidad de que ingresen exactamente 2 personas en un día es 0.0842, aproximadamente 8.4 %.\n",
        "\n",
        "b) ¿Es probable que X exceda de 10? Explica.\n",
        "\n",
        "𝑃(𝑋>10)=1−𝑃(𝑋≤10)=1−0.9863=0.0137\n",
        "\n",
        "\n",
        "La probabilidad de que ingresen más de 10 personas en un día es 0.0137 (1.37 %).\n",
        "Como este valor es menor que 0.05, no es probable que ingresen más de 10 personas en un día; se considera poco frecuente."
      ],
      "metadata": {
        "id": "6wfeii3nh2Tj"
      }
    },
    {
      "cell_type": "code",
      "execution_count": null,
      "metadata": {
        "id": "J7mWbdWHhRtr",
        "colab": {
          "base_uri": "https://localhost:8080/"
        },
        "outputId": "a7226d3d-3154-484d-c4ee-b97ab3051e02"
      },
      "outputs": [
        {
          "output_type": "stream",
          "name": "stdout",
          "text": [
            "a) Probabilidad de que ingresen exactamente 2 personas en un día: 0.08422433748856832\n",
            "b) Probabilidad de que ingresen más de 10 personas en un día: 0.013695268598382881\n"
          ]
        }
      ],
      "source": [
        "from scipy.stats import poisson\n",
        "\n",
        "# Parámetros de la distribución de Poisson\n",
        "media_ingresos = 5  # λ = 5 personas por día\n",
        "\n",
        "# Probabilidad de que ingresen exactamente 2 personas en un día\n",
        "probabilidad_2_personas = poisson.pmf(2, media_ingresos)\n",
        "print(\"a) Probabilidad de que ingresen exactamente 2 personas en un día:\", probabilidad_2_personas)\n",
        "\n",
        "# Probabilidad de que X exceda de 10 (más de 10 personas)\n",
        "# P(X > 10) = 1 - P(X <= 10)\n",
        "probabilidad_mas_de_10 = 1 - poisson.cdf(10, media_ingresos)\n",
        "print(\"b) Probabilidad de que ingresen más de 10 personas en un día:\", probabilidad_mas_de_10)\n",
        "\n"
      ]
    }
  ]
}